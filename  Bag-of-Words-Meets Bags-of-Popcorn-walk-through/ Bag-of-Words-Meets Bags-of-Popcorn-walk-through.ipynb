{
 "cells": [
  {
   "cell_type": "markdown",
   "metadata": {},
   "source": [
    "        TextBlob | vaderSentiment | nltk | re | bs4 | CountVectorizer | Word2Vec \n",
    "        \n",
    "        | TF-IDF | Pipeline | FeatrueUnion"
   ]
  },
  {
   "cell_type": "markdown",
   "metadata": {},
   "source": [
    "# Sentiment Analysis TextBlob and VaderSentiment\n",
    "            \n",
    "            TextBlob | vaderSentiment | np | pd | sklearn\n",
    "\n",
    "   [TextBlob](http://textblob.readthedocs.io/en/dev/quickstart.html#sentiment-analysis): build on nstk\n",
    "   \n",
    "   \n",
    "   [vaderSentiment](https://github.com/cjhutto/vaderSentiment): Sentiment Analysis\n",
    "   \n",
    "   "
   ]
  },
  {
   "cell_type": "code",
   "execution_count": 8,
   "metadata": {
    "collapsed": false
   },
   "outputs": [],
   "source": [
    "from textblob import TextBlob # build on nstk\n",
    "from vaderSentiment.vaderSentiment import SentimentIntensityAnalyzer\n",
    "analyzer = SentimentIntensityAnalyzer()"
   ]
  },
  {
   "cell_type": "code",
   "execution_count": 3,
   "metadata": {
    "collapsed": true
   },
   "outputs": [],
   "source": [
    "import pandas as pd\n",
    "import numpy as np"
   ]
  },
  {
   "cell_type": "code",
   "execution_count": 4,
   "metadata": {
    "collapsed": false
   },
   "outputs": [],
   "source": [
    "traindf = pd.DataFrame(columns=['id','sentiment','review'])\n",
    "idx = -1\n",
    "with open('data/labeledTrainData.tsv','r') as f:\n",
    "    for line in f.readlines():\n",
    "        if idx == -1:\n",
    "            pass\n",
    "        else:\n",
    "            traindf.loc[idx] = line.split(\"\\t\")\n",
    "        idx += 1\n",
    "# easier method:       \n",
    "# pd.read_csv(\"data/labeledTrainData.tsv\", header=0, \\\n",
    "#                    delimiter=\"\\t\", quoting=3)"
   ]
  },
  {
   "cell_type": "code",
   "execution_count": 5,
   "metadata": {
    "collapsed": false
   },
   "outputs": [],
   "source": [
    "traindf.review = traindf.review.apply(lambda var: var.decode('utf-8'))"
   ]
  },
  {
   "cell_type": "code",
   "execution_count": 6,
   "metadata": {
    "collapsed": false,
    "scrolled": true
   },
   "outputs": [],
   "source": [
    "traindf['textblod'] = traindf.review.apply(lambda var: TextBlob(var)) \n",
    "traindf['textblod-polarity'] = traindf.textblod.apply(lambda var: var.sentiment.polarity)\n",
    "traindf['textblod-subjectivity'] = traindf.textblod.apply(lambda var: var.sentiment.subjectivity)"
   ]
  },
  {
   "cell_type": "code",
   "execution_count": 9,
   "metadata": {
    "collapsed": false
   },
   "outputs": [],
   "source": [
    "traindf['vaderSentiment'] = traindf.review.apply(analyzer.polarity_scores);"
   ]
  },
  {
   "cell_type": "code",
   "execution_count": 10,
   "metadata": {
    "collapsed": false
   },
   "outputs": [],
   "source": [
    "traindf['vaderSentiment-compound'] = traindf.vaderSentiment.apply(lambda var: var['compound'])\n",
    "traindf['vaderSentiment-neg'] = traindf.vaderSentiment.apply(lambda var: var['neg'])\n",
    "traindf['vaderSentiment-neu'] = traindf.vaderSentiment.apply(lambda var: var['neu'])\n",
    "traindf['vaderSentiment-pos'] = traindf.vaderSentiment.apply(lambda var: var['pos'])"
   ]
  },
  {
   "cell_type": "markdown",
   "metadata": {},
   "source": [
    "# quick classification based on sentiment analysis"
   ]
  },
  {
   "cell_type": "code",
   "execution_count": 11,
   "metadata": {
    "collapsed": false
   },
   "outputs": [
    {
     "name": "stderr",
     "output_type": "stream",
     "text": [
      "/anaconda/lib/python2.7/site-packages/sklearn/cross_validation.py:41: DeprecationWarning: This module was deprecated in version 0.18 in favor of the model_selection module into which all the refactored classes and functions are moved. Also note that the interface of the new CV iterators are different from that of this module. This module will be removed in 0.20.\n",
      "  \"This module will be removed in 0.20.\", DeprecationWarning)\n",
      "/anaconda/lib/python2.7/site-packages/h5py/__init__.py:36: FutureWarning: Conversion of the second argument of issubdtype from `float` to `np.floating` is deprecated. In future, it will be treated as `np.float64 == np.dtype(float).type`.\n",
      "  from ._conv import register_converters as _register_converters\n"
     ]
    },
    {
     "name": "stdout",
     "output_type": "stream",
     "text": [
      "[[2864  834]\n",
      " [ 957 2845]]\n",
      "\n",
      "\n",
      "             precision    recall  f1-score   support\n",
      "\n",
      "        0.0       0.75      0.77      0.76      3698\n",
      "        1.0       0.77      0.75      0.76      3802\n",
      "\n",
      "avg / total       0.76      0.76      0.76      7500\n",
      "\n"
     ]
    }
   ],
   "source": [
    "from sklearn.ensemble import RandomForestClassifier\n",
    "from sklearn.cross_validation import train_test_split\n",
    "from sklearn.linear_model import LogisticRegression\n",
    "from sklearn.svm import SVC\n",
    "import tensorflow as tf\n",
    "from sklearn.metrics import confusion_matrix,classification_report\n",
    "\n",
    "X = np.array(traindf[['textblod-polarity','textblod-subjectivity', 'vaderSentiment-compound',\n",
    "            'vaderSentiment-neg','vaderSentiment-neu','vaderSentiment-pos']])\n",
    "y = np.array(traindf['sentiment'])\n",
    "X=X.astype('float32')\n",
    "y=y.astype('float32')\n",
    "\n",
    "X_train, X_test, y_train, y_test = train_test_split( X, y, test_size=0.30, random_state=325)\n",
    "\n",
    "rfc = SVC()\n",
    "rfc.fit(X_train,y_train)\n",
    "pred = rfc.predict(X_test)\n",
    "\n",
    "print confusion_matrix(y_test,pred)\n",
    "print '\\n'\n",
    "print classification_report(y_test,pred)\n",
    "# at most 77 using 2 layer neural network"
   ]
  },
  {
   "cell_type": "markdown",
   "metadata": {},
   "source": [
    "# Basic Bag-of-words NB classifiers\n",
    "\n",
    "## Get Clean String\n",
    "\n",
    "        word2vectorizer | BeautifulSoup4 | re(regularexpression) | "
   ]
  },
  {
   "cell_type": "markdown",
   "metadata": {},
   "source": [
    "- ### bs4"
   ]
  },
  {
   "cell_type": "code",
   "execution_count": 12,
   "metadata": {
    "collapsed": false
   },
   "outputs": [
    {
     "name": "stdout",
     "output_type": "stream",
     "text": [
      " the obvious message of drugs are bad m'kay.<br /><br />Visually impressive but of course this is al\n",
      " the obvious message of drugs are bad m'kay.Visually impressive but of course this is all about Mich\n"
     ]
    },
    {
     "name": "stderr",
     "output_type": "stream",
     "text": [
      "/anaconda/lib/python2.7/site-packages/bs4/__init__.py:181: UserWarning: No parser was explicitly specified, so I'm using the best available HTML parser for this system (\"lxml\"). This usually isn't a problem, but if you run this code on another system, or in a different virtual environment, it may use a different parser and behave differently.\n",
      "\n",
      "The code that caused this warning is on line 174 of the file /anaconda/lib/python2.7/runpy.py. To get rid of this warning, change code that looks like this:\n",
      "\n",
      " BeautifulSoup(YOUR_MARKUP})\n",
      "\n",
      "to this:\n",
      "\n",
      " BeautifulSoup(YOUR_MARKUP, \"lxml\")\n",
      "\n",
      "  markup_type=markup_type))\n"
     ]
    }
   ],
   "source": [
    "from bs4 import BeautifulSoup          \n",
    "# remove markup \n",
    "example = BeautifulSoup(traindf[\"review\"][0])\n",
    "print traindf[\"review\"][0][550:650]\n",
    "print example.get_text()[550:650]"
   ]
  },
  {
   "cell_type": "markdown",
   "metadata": {},
   "source": [
    "- ## re\n",
    "\n",
    "    [“^[a-zA-Z]” or “[^a-zA-Z]”](https://stackoverflow.com/questions/2790813/regular-expression-a-za-z-or-a-za-z)\n",
    "        ^ outside of the character class (\"[a-zA-Z]\") notes that it is the \"begins with\" operator.\n",
    "        ^ inside of the character negates the specified class."
   ]
  },
  {
   "cell_type": "code",
   "execution_count": 13,
   "metadata": {
    "collapsed": false
   },
   "outputs": [
    {
     "name": "stdout",
     "output_type": "stream",
     "text": [
      " the obvious message of drugs are bad m kay Visually impressive but of course this is all about Mich\n"
     ]
    }
   ],
   "source": [
    "import re\n",
    "# Use regular expressions to do a find-and-replace\n",
    "letters_only = re.sub(\"[^a-zA-Z]\",           # The pattern to search for\n",
    "                      \" \",                   # The pattern to replace it with\n",
    "                      example.get_text() )  # The text to search\n",
    "print letters_only[550:650]"
   ]
  },
  {
   "cell_type": "markdown",
   "metadata": {},
   "source": [
    "- ## build-in"
   ]
  },
  {
   "cell_type": "code",
   "execution_count": 17,
   "metadata": {
    "collapsed": false
   },
   "outputs": [
    {
     "name": "stdout",
     "output_type": "stream",
     "text": [
      " the obvious message of drugs are bad m kay visually impressive but of course this is all about mich\n"
     ]
    }
   ],
   "source": [
    "print letters_only[550:650].lower()\n",
    "letters_only_list = letters_only[550:650].lower().split()"
   ]
  },
  {
   "cell_type": "markdown",
   "metadata": {},
   "source": [
    "- ## nltk\n",
    "\n",
    "        stop words "
   ]
  },
  {
   "cell_type": "code",
   "execution_count": 20,
   "metadata": {
    "collapsed": false
   },
   "outputs": [
    {
     "name": "stdout",
     "output_type": "stream",
     "text": [
      "[u'i', u'me', u'my', u'myself', u'we', u'our', u'ours', u'ourselves', u'you', u\"you're\"]\n",
      "\n",
      "[u'obvious', u'message', u'drugs', u'bad', u'kay', u'visually', u'impressive', u'course', u'mich']\n"
     ]
    }
   ],
   "source": [
    "#nltk.download()  # Download text data sets, including stop words\n",
    "#nltk.download_shel()\n",
    "from nltk.corpus import stopwords # Import the stop word list\n",
    "print stopwords.words(\"english\")[:10]\n",
    "# remove the stop words from list\n",
    "print \n",
    "print [w for w in letters_only_list if not w in stopwords.words(\"english\")]"
   ]
  },
  {
   "cell_type": "code",
   "execution_count": 88,
   "metadata": {
    "collapsed": false
   },
   "outputs": [],
   "source": [
    "def word_clean(sentence,remove_stopwords=False):\n",
    "    # 1. Remove HTML\n",
    "    review_text = BeautifulSoup(sentence).get_text() \n",
    "    # 2. Remove non-letters        \n",
    "    letters_only = re.sub(\"[^a-zA-Z]\", \" \", review_text) \n",
    "    # 3. Convert to lower case, split into individual words\n",
    "    words = letters_only.lower().split()                             \n",
    "    # 4. Remove stop words\n",
    "    if remove_stopwords:\n",
    "        stops = set(stopwords.words(\"english\"))                   \n",
    "        meaningful_words = [w for w in words if not w in stops]   \n",
    "    # 6. Join \n",
    "    else:\n",
    "        meaningful_words = words\n",
    "    return( \" \".join( meaningful_words ))   \n",
    "\n",
    "traindf.review = traindf.review.apply(word_clean)"
   ]
  },
  {
   "cell_type": "markdown",
   "metadata": {},
   "source": [
    "## Feature Extraction\n",
    "\n",
    "    Sklearn.CountVectorizer"
   ]
  },
  {
   "cell_type": "code",
   "execution_count": 29,
   "metadata": {
    "collapsed": false
   },
   "outputs": [],
   "source": [
    "from sklearn.feature_extraction.text import CountVectorizer\n",
    "# Initialize the \"CountVectorizer\" object, which is scikit-learn's\n",
    "# bag of words tool.  \n",
    "vectorizer = CountVectorizer(analyzer = \"word\",   \n",
    "                             tokenizer = None,    \n",
    "                             preprocessor = None, \n",
    "                             stop_words = None,   \n",
    "                             max_features = 5000) \n",
    "\n",
    "train_data_features = vectorizer.fit_transform(traindf.review)\n",
    "train_data_features = train_data_features.toarray() # to np array"
   ]
  },
  {
   "cell_type": "code",
   "execution_count": 66,
   "metadata": {
    "collapsed": false
   },
   "outputs": [],
   "source": [
    "import matplotlib.pyplot as plt\n",
    "import seaborn as sns\n",
    "%matplotlib inline\n",
    "# Sum up the counts of each vocabulary word\n",
    "vocab = vectorizer.get_feature_names()\n",
    "dist = np.sum(train_data_features, axis=0)\n",
    "\n",
    "x,y = zip(*sorted(map(list,zip(dist, vocab)),reverse=True))"
   ]
  },
  {
   "cell_type": "code",
   "execution_count": 70,
   "metadata": {
    "collapsed": false,
    "scrolled": false
   },
   "outputs": [
    {
     "data": {
      "image/png": "[encoded data removed]",
      "text/plain": [
       "<matplotlib.figure.Figure at 0x12ff355d0>"
      ]
     },
     "metadata": {},
     "output_type": "display_data"
    }
   ],
   "source": [
    "plt.figure(figsize = (14,13))\n",
    "sns.barplot(x[:50],y[:50]);"
   ]
  },
  {
   "cell_type": "markdown",
   "metadata": {},
   "source": [
    "## train-predict"
   ]
  },
  {
   "cell_type": "code",
   "execution_count": 72,
   "metadata": {
    "collapsed": false
   },
   "outputs": [],
   "source": [
    "X = np.concatenate([train_data_features, np.array(traindf[['textblod-polarity','textblod-subjectivity', 'vaderSentiment-compound',\n",
    "            'vaderSentiment-neg','vaderSentiment-neu','vaderSentiment-pos']])],axis = 1)\n",
    "y = np.array(traindf['sentiment'])"
   ]
  },
  {
   "cell_type": "code",
   "execution_count": 74,
   "metadata": {
    "collapsed": false
   },
   "outputs": [
    {
     "name": "stdout",
     "output_type": "stream",
     "text": [
      "[[2856  842]\n",
      " [ 455 3347]]\n",
      "\n",
      "\n",
      "             precision    recall  f1-score   support\n",
      "\n",
      "          0       0.86      0.77      0.81      3698\n",
      "          1       0.80      0.88      0.84      3802\n",
      "\n",
      "avg / total       0.83      0.83      0.83      7500\n",
      "\n"
     ]
    }
   ],
   "source": [
    "X_train, X_test, y_train, y_test = train_test_split( X, y, test_size=0.30, random_state=325)\n",
    "\n",
    "rfc = SVC()\n",
    "rfc.fit(X_train,y_train)\n",
    "pred = rfc.predict(X_test)\n",
    "\n",
    "print confusion_matrix(y_test,pred)\n",
    "print '\\n'\n",
    "print classification_report(y_test,pred)"
   ]
  },
  {
   "cell_type": "code",
   "execution_count": 80,
   "metadata": {
    "collapsed": false
   },
   "outputs": [
    {
     "name": "stdout",
     "output_type": "stream",
     "text": [
      "[[3131  567]\n",
      " [ 621 3181]]\n",
      "\n",
      "\n",
      "             precision    recall  f1-score   support\n",
      "\n",
      "          0       0.83      0.85      0.84      3698\n",
      "          1       0.85      0.84      0.84      3802\n",
      "\n",
      "avg / total       0.84      0.84      0.84      7500\n",
      "\n"
     ]
    }
   ],
   "source": [
    "X_train, X_test, y_train, y_test = train_test_split( X, y, test_size=0.30, random_state=325)\n",
    "\n",
    "rfc = RandomForestClassifier(n_estimators=150)\n",
    "rfc.fit(X_train,y_train)\n",
    "pred = rfc.predict(X_test)\n",
    "\n",
    "print confusion_matrix(y_test,pred)\n",
    "print '\\n'\n",
    "print classification_report(y_test,pred)"
   ]
  },
  {
   "cell_type": "code",
   "execution_count": 79,
   "metadata": {
    "collapsed": false
   },
   "outputs": [
    {
     "name": "stdout",
     "output_type": "stream",
     "text": [
      "[[3162  536]\n",
      " [ 577 3225]]\n",
      "\n",
      "\n",
      "             precision    recall  f1-score   support\n",
      "\n",
      "          0       0.85      0.86      0.85      3698\n",
      "          1       0.86      0.85      0.85      3802\n",
      "\n",
      "avg / total       0.85      0.85      0.85      7500\n",
      "\n"
     ]
    }
   ],
   "source": [
    "from sklearn.naive_bayes import MultinomialNB, GaussianNB\n",
    "NBC = MultinomialNB()\n",
    "NBC.fit(X_train[:,:-6],y_train)\n",
    "pred = NBC.predict(X_test[:,:-6])\n",
    "\n",
    "print confusion_matrix(y_test,pred)\n",
    "print '\\n'\n",
    "print classification_report(y_test,pred)"
   ]
  },
  {
   "cell_type": "markdown",
   "metadata": {},
   "source": [
    "***\n",
    "# Distributed Word Vectors\n",
    "\n",
    "   Introduced by Google, which will take a text corpus as input and produces the word vectors as output. Intutively, if two words have similar defination, their vector should be close (cosine distance should be small)\n",
    "   \n",
    "        word2vec(https://code.google.com/archive/p/word2vec/) | gensim | cython\n",
    "        \n",
    "   **To train Word2Vec it is better not to remove stop words because the algorithm relies on the broader context of the sentence in order to produce high-quality word vectors**"
   ]
  },
  {
   "cell_type": "code",
   "execution_count": 122,
   "metadata": {
    "collapsed": false,
    "scrolled": true
   },
   "outputs": [],
   "source": [
    "# let's train a vector based on original traindata corpus\n",
    "originalreview = pd.read_csv( \"data/labeledTrainData.tsv\", header=0, \n",
    "                             delimiter=\"\\t\", quoting=3 , encoding = 'utf8').review\n",
    "sentences = map(lambda var: TextBlob(var).sentences, originalreview)"
   ]
  },
  {
   "cell_type": "code",
   "execution_count": 197,
   "metadata": {
    "collapsed": false
   },
   "outputs": [],
   "source": [
    "sentencesflat = []\n",
    "for sen in sentences:\n",
    "    sentencesflat += map(lambda var: (re.sub(\"[^a-zA-Z]\",\" \", str(var))).strip().split(),sen)"
   ]
  },
  {
   "cell_type": "code",
   "execution_count": 199,
   "metadata": {
    "collapsed": false,
    "scrolled": true
   },
   "outputs": [
    {
     "name": "stderr",
     "output_type": "stream",
     "text": [
      "2018-04-02 17:42:54,984 : INFO : collecting all words and their counts\n",
      "2018-04-02 17:42:54,985 : INFO : PROGRESS: at sentence #0, processed 0 words, keeping 0 word types\n",
      "2018-04-02 17:42:55,061 : INFO : PROGRESS: at sentence #10000, processed 229498 words, keeping 20367 word types\n",
      "2018-04-02 17:42:55,111 : INFO : PROGRESS: at sentence #20000, processed 459536 words, keeping 29054 word types\n",
      "2018-04-02 17:42:55,160 : INFO : PROGRESS: at sentence #30000, processed 682841 words, keeping 35246 word types\n"
     ]
    },
    {
     "name": "stdout",
     "output_type": "stream",
     "text": [
      "Training model...\n"
     ]
    },
    {
     "name": "stderr",
     "output_type": "stream",
     "text": [
      "2018-04-02 17:42:55,217 : INFO : PROGRESS: at sentence #40000, processed 913402 words, keeping 40618 word types\n",
      "2018-04-02 17:42:55,264 : INFO : PROGRESS: at sentence #50000, processed 1136576 words, keeping 44896 word types\n",
      "2018-04-02 17:42:55,324 : INFO : PROGRESS: at sentence #60000, processed 1361750 words, keeping 48733 word types\n",
      "2018-04-02 17:42:55,371 : INFO : PROGRESS: at sentence #70000, processed 1588810 words, keeping 52077 word types\n",
      "2018-04-02 17:42:55,417 : INFO : PROGRESS: at sentence #80000, processed 1811911 words, keeping 55122 word types\n",
      "2018-04-02 17:42:55,467 : INFO : PROGRESS: at sentence #90000, processed 2039887 words, keeping 58176 word types\n",
      "2018-04-02 17:42:55,517 : INFO : PROGRESS: at sentence #100000, processed 2265530 words, keeping 60922 word types\n",
      "2018-04-02 17:42:55,574 : INFO : PROGRESS: at sentence #110000, processed 2488946 words, keeping 63448 word types\n",
      "2018-04-02 17:42:55,639 : INFO : PROGRESS: at sentence #120000, processed 2714874 words, keeping 66026 word types\n",
      "2018-04-02 17:42:55,708 : INFO : PROGRESS: at sentence #130000, processed 2944511 words, keeping 68295 word types\n",
      "2018-04-02 17:42:55,759 : INFO : PROGRESS: at sentence #140000, processed 3160797 words, keeping 70246 word types\n",
      "2018-04-02 17:42:55,805 : INFO : PROGRESS: at sentence #150000, processed 3390164 words, keeping 72447 word types\n",
      "2018-04-02 17:42:55,852 : INFO : PROGRESS: at sentence #160000, processed 3616854 words, keeping 74515 word types\n",
      "2018-04-02 17:42:55,898 : INFO : PROGRESS: at sentence #170000, processed 3844038 words, keeping 76390 word types\n",
      "2018-04-02 17:42:55,943 : INFO : PROGRESS: at sentence #180000, processed 4068531 words, keeping 78190 word types\n",
      "2018-04-02 17:42:55,995 : INFO : PROGRESS: at sentence #190000, processed 4297560 words, keeping 79920 word types\n",
      "2018-04-02 17:42:56,047 : INFO : PROGRESS: at sentence #200000, processed 4525521 words, keeping 81694 word types\n",
      "2018-04-02 17:42:56,101 : INFO : PROGRESS: at sentence #210000, processed 4750833 words, keeping 83457 word types\n",
      "2018-04-02 17:42:56,155 : INFO : PROGRESS: at sentence #220000, processed 4980092 words, keeping 85117 word types\n",
      "2018-04-02 17:42:56,201 : INFO : PROGRESS: at sentence #230000, processed 5206533 words, keeping 86742 word types\n",
      "2018-04-02 17:42:56,250 : INFO : PROGRESS: at sentence #240000, processed 5438162 words, keeping 88326 word types\n",
      "2018-04-02 17:42:56,293 : INFO : PROGRESS: at sentence #250000, processed 5656071 words, keeping 89895 word types\n",
      "2018-04-02 17:42:56,340 : INFO : PROGRESS: at sentence #260000, processed 5879737 words, keeping 91382 word types\n",
      "2018-04-02 17:42:56,374 : INFO : collected 92345 word types from a corpus of 6023662 raw words and 266551 sentences\n",
      "2018-04-02 17:42:56,375 : INFO : Loading a fresh vocabulary\n",
      "2018-04-02 17:42:56,454 : INFO : min_count=40 retains 8941 unique words (9% of original 92345, drops 83404)\n",
      "2018-04-02 17:42:56,455 : INFO : min_count=40 leaves 5593217 word corpus (92% of original 6023662, drops 430445)\n",
      "2018-04-02 17:42:56,484 : INFO : deleting the raw counts dictionary of 92345 items\n",
      "2018-04-02 17:42:56,488 : INFO : sample=0.001 downsamples 48 most-common words\n",
      "2018-04-02 17:42:56,490 : INFO : downsampling leaves estimated 4131188 word corpus (73.9% of prior 5593217)\n",
      "2018-04-02 17:42:56,535 : INFO : estimated required memory for 8941 words and 300 dimensions: 25928900 bytes\n",
      "2018-04-02 17:42:56,536 : INFO : resetting layer weights\n",
      "2018-04-02 17:42:56,800 : INFO : training model with 4 workers on 8941 vocabulary and 300 features, using sg=0 hs=0 sample=0.001 negative=5 window=10\n",
      "2018-04-02 17:42:58,053 : INFO : EPOCH 1 - PROGRESS: at 0.81% examples, 27385 words/s, in_qsize 7, out_qsize 0\n",
      "2018-04-02 17:42:59,330 : INFO : EPOCH 1 - PROGRESS: at 2.12% examples, 35237 words/s, in_qsize 8, out_qsize 0\n",
      "2018-04-02 17:43:00,893 : INFO : EPOCH 1 - PROGRESS: at 3.43% examples, 35129 words/s, in_qsize 7, out_qsize 0\n",
      "2018-04-02 17:43:02,588 : INFO : EPOCH 1 - PROGRESS: at 4.74% examples, 34285 words/s, in_qsize 8, out_qsize 0\n",
      "2018-04-02 17:43:03,590 : INFO : EPOCH 1 - PROGRESS: at 5.90% examples, 36246 words/s, in_qsize 7, out_qsize 0\n",
      "2018-04-02 17:43:04,897 : INFO : EPOCH 1 - PROGRESS: at 6.72% examples, 34639 words/s, in_qsize 8, out_qsize 0\n",
      "2018-04-02 17:43:06,962 : INFO : EPOCH 1 - PROGRESS: at 8.02% examples, 33012 words/s, in_qsize 8, out_qsize 0\n",
      "2018-04-02 17:43:08,443 : INFO : EPOCH 1 - PROGRESS: at 9.37% examples, 33516 words/s, in_qsize 8, out_qsize 0\n",
      "2018-04-02 17:43:09,519 : INFO : EPOCH 1 - PROGRESS: at 10.04% examples, 32837 words/s, in_qsize 7, out_qsize 0\n",
      "2018-04-02 17:43:10,704 : INFO : EPOCH 1 - PROGRESS: at 10.69% examples, 32015 words/s, in_qsize 8, out_qsize 0\n",
      "2018-04-02 17:43:11,736 : INFO : EPOCH 1 - PROGRESS: at 11.37% examples, 31631 words/s, in_qsize 7, out_qsize 0\n",
      "2018-04-02 17:43:13,159 : INFO : EPOCH 1 - PROGRESS: at 12.03% examples, 30549 words/s, in_qsize 8, out_qsize 0\n",
      "2018-04-02 17:43:14,288 : INFO : EPOCH 1 - PROGRESS: at 12.68% examples, 30145 words/s, in_qsize 8, out_qsize 0\n",
      "2018-04-02 17:43:15,556 : INFO : EPOCH 1 - PROGRESS: at 13.33% examples, 29570 words/s, in_qsize 8, out_qsize 0\n",
      "2018-04-02 17:43:16,761 : INFO : EPOCH 1 - PROGRESS: at 13.97% examples, 29142 words/s, in_qsize 7, out_qsize 0\n",
      "2018-04-02 17:43:18,274 : INFO : EPOCH 1 - PROGRESS: at 15.25% examples, 29637 words/s, in_qsize 8, out_qsize 0\n",
      "2018-04-02 17:43:19,382 : INFO : EPOCH 1 - PROGRESS: at 16.25% examples, 29992 words/s, in_qsize 8, out_qsize 0\n",
      "2018-04-02 17:43:20,658 : INFO : EPOCH 1 - PROGRESS: at 17.22% examples, 30119 words/s, in_qsize 7, out_qsize 0\n",
      "2018-04-02 17:43:21,927 : INFO : EPOCH 1 - PROGRESS: at 18.61% examples, 30769 words/s, in_qsize 8, out_qsize 0\n",
      "2018-04-02 17:43:23,225 : INFO : EPOCH 1 - PROGRESS: at 19.93% examples, 31323 words/s, in_qsize 8, out_qsize 0\n",
      "2018-04-02 17:43:24,614 : INFO : EPOCH 1 - PROGRESS: at 21.26% examples, 31728 words/s, in_qsize 8, out_qsize 0\n",
      "2018-04-02 17:43:25,642 : INFO : EPOCH 1 - PROGRESS: at 22.43% examples, 32269 words/s, in_qsize 7, out_qsize 0\n",
      "2018-04-02 17:43:26,704 : INFO : EPOCH 1 - PROGRESS: at 22.62% examples, 31341 words/s, in_qsize 8, out_qsize 0\n",
      "2018-04-02 17:43:28,550 : INFO : EPOCH 1 - PROGRESS: at 23.95% examples, 31250 words/s, in_qsize 7, out_qsize 0\n",
      "2018-04-02 17:43:29,700 : INFO : EPOCH 1 - PROGRESS: at 24.95% examples, 31411 words/s, in_qsize 8, out_qsize 0\n",
      "2018-04-02 17:43:30,714 : INFO : EPOCH 1 - PROGRESS: at 25.59% examples, 31280 words/s, in_qsize 7, out_qsize 0\n",
      "2018-04-02 17:43:31,771 : INFO : EPOCH 1 - PROGRESS: at 26.38% examples, 31319 words/s, in_qsize 7, out_qsize 0\n",
      "2018-04-02 17:43:32,774 : INFO : EPOCH 1 - PROGRESS: at 27.07% examples, 31201 words/s, in_qsize 8, out_qsize 0\n",
      "2018-04-02 17:43:34,207 : INFO : EPOCH 1 - PROGRESS: at 27.90% examples, 30926 words/s, in_qsize 8, out_qsize 0\n",
      "2018-04-02 17:43:35,348 : INFO : EPOCH 1 - PROGRESS: at 28.91% examples, 31075 words/s, in_qsize 8, out_qsize 0\n",
      "2018-04-02 17:43:36,435 : INFO : EPOCH 1 - PROGRESS: at 29.77% examples, 31086 words/s, in_qsize 8, out_qsize 0\n",
      "2018-04-02 17:43:37,725 : INFO : EPOCH 1 - PROGRESS: at 30.60% examples, 30949 words/s, in_qsize 8, out_qsize 0\n",
      "2018-04-02 17:43:38,726 : INFO : EPOCH 1 - PROGRESS: at 31.37% examples, 31018 words/s, in_qsize 8, out_qsize 0\n",
      "2018-04-02 17:43:39,915 : INFO : EPOCH 1 - PROGRESS: at 32.21% examples, 30971 words/s, in_qsize 7, out_qsize 0\n",
      "2018-04-02 17:43:41,076 : INFO : EPOCH 1 - PROGRESS: at 33.00% examples, 30913 words/s, in_qsize 7, out_qsize 0\n",
      "2018-04-02 17:43:42,362 : INFO : EPOCH 1 - PROGRESS: at 33.89% examples, 30788 words/s, in_qsize 8, out_qsize 0\n",
      "2018-04-02 17:43:43,506 : INFO : EPOCH 1 - PROGRESS: at 34.91% examples, 30915 words/s, in_qsize 8, out_qsize 0\n",
      "2018-04-02 17:43:44,588 : INFO : EPOCH 1 - PROGRESS: at 35.71% examples, 30941 words/s, in_qsize 8, out_qsize 0\n",
      "2018-04-02 17:43:45,785 : INFO : EPOCH 1 - PROGRESS: at 36.56% examples, 30883 words/s, in_qsize 8, out_qsize 0\n",
      "2018-04-02 17:43:46,913 : INFO : EPOCH 1 - PROGRESS: at 37.52% examples, 31008 words/s, in_qsize 8, out_qsize 0\n",
      "2018-04-02 17:43:48,294 : INFO : EPOCH 1 - PROGRESS: at 38.56% examples, 30977 words/s, in_qsize 8, out_qsize 0\n",
      "2018-04-02 17:43:49,398 : INFO : EPOCH 1 - PROGRESS: at 39.53% examples, 31108 words/s, in_qsize 7, out_qsize 0\n",
      "2018-04-02 17:43:50,496 : INFO : EPOCH 1 - PROGRESS: at 40.37% examples, 31113 words/s, in_qsize 8, out_qsize 0\n",
      "2018-04-02 17:43:51,674 : INFO : EPOCH 1 - PROGRESS: at 41.22% examples, 31067 words/s, in_qsize 8, out_qsize 0\n",
      "2018-04-02 17:43:52,731 : INFO : EPOCH 1 - PROGRESS: at 42.23% examples, 31216 words/s, in_qsize 8, out_qsize 0\n",
      "2018-04-02 17:43:54,037 : INFO : EPOCH 1 - PROGRESS: at 43.23% examples, 31221 words/s, in_qsize 8, out_qsize 0\n",
      "2018-04-02 17:43:55,156 : INFO : EPOCH 1 - PROGRESS: at 44.35% examples, 31444 words/s, in_qsize 8, out_qsize 0\n",
      "2018-04-02 17:43:56,243 : INFO : EPOCH 1 - PROGRESS: at 45.19% examples, 31441 words/s, in_qsize 8, out_qsize 0\n",
      "2018-04-02 17:43:57,284 : INFO : EPOCH 1 - PROGRESS: at 46.14% examples, 31579 words/s, in_qsize 8, out_qsize 0\n",
      "2018-04-02 17:43:58,610 : INFO : EPOCH 1 - PROGRESS: at 47.13% examples, 31570 words/s, in_qsize 8, out_qsize 0\n",
      "2018-04-02 17:43:59,903 : INFO : EPOCH 1 - PROGRESS: at 48.44% examples, 31794 words/s, in_qsize 8, out_qsize 0\n",
      "2018-04-02 17:44:00,942 : INFO : EPOCH 1 - PROGRESS: at 49.72% examples, 32030 words/s, in_qsize 8, out_qsize 0\n",
      "2018-04-02 17:44:02,340 : INFO : EPOCH 1 - PROGRESS: at 50.54% examples, 31867 words/s, in_qsize 8, out_qsize 0\n",
      "2018-04-02 17:44:03,422 : INFO : EPOCH 1 - PROGRESS: at 51.56% examples, 31969 words/s, in_qsize 8, out_qsize 0\n",
      "2018-04-02 17:44:04,582 : INFO : EPOCH 1 - PROGRESS: at 52.58% examples, 32028 words/s, in_qsize 8, out_qsize 0\n",
      "2018-04-02 17:44:05,846 : INFO : EPOCH 1 - PROGRESS: at 53.87% examples, 32233 words/s, in_qsize 7, out_qsize 0\n",
      "2018-04-02 17:44:07,096 : INFO : EPOCH 1 - PROGRESS: at 55.17% examples, 32439 words/s, in_qsize 7, out_qsize 0\n",
      "2018-04-02 17:44:08,335 : INFO : EPOCH 1 - PROGRESS: at 56.53% examples, 32641 words/s, in_qsize 8, out_qsize 0\n",
      "2018-04-02 17:44:09,537 : INFO : EPOCH 1 - PROGRESS: at 57.86% examples, 32854 words/s, in_qsize 8, out_qsize 0\n",
      "2018-04-02 17:44:10,785 : INFO : EPOCH 1 - PROGRESS: at 59.12% examples, 33039 words/s, in_qsize 8, out_qsize 0\n",
      "2018-04-02 17:44:12,034 : INFO : EPOCH 1 - PROGRESS: at 60.47% examples, 33217 words/s, in_qsize 8, out_qsize 0\n",
      "2018-04-02 17:44:13,290 : INFO : EPOCH 1 - PROGRESS: at 61.82% examples, 33390 words/s, in_qsize 8, out_qsize 0\n",
      "2018-04-02 17:44:14,517 : INFO : EPOCH 1 - PROGRESS: at 63.12% examples, 33571 words/s, in_qsize 8, out_qsize 0\n",
      "2018-04-02 17:44:15,524 : INFO : EPOCH 1 - PROGRESS: at 64.27% examples, 33749 words/s, in_qsize 8, out_qsize 0\n",
      "2018-04-02 17:44:16,739 : INFO : EPOCH 1 - PROGRESS: at 65.47% examples, 33839 words/s, in_qsize 8, out_qsize 0\n",
      "2018-04-02 17:44:17,991 : INFO : EPOCH 1 - PROGRESS: at 66.78% examples, 33993 words/s, in_qsize 7, out_qsize 0\n",
      "2018-04-02 17:44:19,242 : INFO : EPOCH 1 - PROGRESS: at 68.09% examples, 34146 words/s, in_qsize 8, out_qsize 0\n",
      "2018-04-02 17:44:20,267 : INFO : EPOCH 1 - PROGRESS: at 69.24% examples, 34300 words/s, in_qsize 8, out_qsize 0\n",
      "2018-04-02 17:44:21,277 : INFO : EPOCH 1 - PROGRESS: at 70.19% examples, 34377 words/s, in_qsize 8, out_qsize 0\n",
      "2018-04-02 17:44:22,364 : INFO : EPOCH 1 - PROGRESS: at 71.35% examples, 34501 words/s, in_qsize 7, out_qsize 0\n",
      "2018-04-02 17:44:23,423 : INFO : EPOCH 1 - PROGRESS: at 72.52% examples, 34632 words/s, in_qsize 7, out_qsize 0\n",
      "2018-04-02 17:44:24,513 : INFO : EPOCH 1 - PROGRESS: at 73.68% examples, 34748 words/s, in_qsize 8, out_qsize 0\n",
      "2018-04-02 17:44:25,677 : INFO : EPOCH 1 - PROGRESS: at 74.80% examples, 34830 words/s, in_qsize 8, out_qsize 0\n",
      "2018-04-02 17:44:26,691 : INFO : EPOCH 1 - PROGRESS: at 75.99% examples, 34969 words/s, in_qsize 7, out_qsize 0\n",
      "2018-04-02 17:44:27,840 : INFO : EPOCH 1 - PROGRESS: at 77.18% examples, 35057 words/s, in_qsize 8, out_qsize 0\n",
      "2018-04-02 17:44:28,873 : INFO : EPOCH 1 - PROGRESS: at 78.32% examples, 35181 words/s, in_qsize 8, out_qsize 0\n",
      "2018-04-02 17:44:30,037 : INFO : EPOCH 1 - PROGRESS: at 79.43% examples, 35254 words/s, in_qsize 8, out_qsize 0\n",
      "2018-04-02 17:44:31,051 : INFO : EPOCH 1 - PROGRESS: at 80.61% examples, 35379 words/s, in_qsize 8, out_qsize 0\n",
      "2018-04-02 17:44:32,170 : INFO : EPOCH 1 - PROGRESS: at 81.76% examples, 35469 words/s, in_qsize 8, out_qsize 0\n",
      "2018-04-02 17:44:33,263 : INFO : EPOCH 1 - PROGRESS: at 82.86% examples, 35564 words/s, in_qsize 8, out_qsize 0\n",
      "2018-04-02 17:44:34,390 : INFO : EPOCH 1 - PROGRESS: at 84.06% examples, 35644 words/s, in_qsize 8, out_qsize 0\n",
      "2018-04-02 17:44:35,406 : INFO : EPOCH 1 - PROGRESS: at 85.19% examples, 35760 words/s, in_qsize 8, out_qsize 0\n",
      "2018-04-02 17:44:36,537 : INFO : EPOCH 1 - PROGRESS: at 86.36% examples, 35834 words/s, in_qsize 7, out_qsize 0\n",
      "2018-04-02 17:44:37,672 : INFO : EPOCH 1 - PROGRESS: at 87.46% examples, 35905 words/s, in_qsize 7, out_qsize 0\n",
      "2018-04-02 17:44:38,777 : INFO : EPOCH 1 - PROGRESS: at 88.62% examples, 35988 words/s, in_qsize 8, out_qsize 0\n",
      "2018-04-02 17:44:39,803 : INFO : EPOCH 1 - PROGRESS: at 89.76% examples, 36093 words/s, in_qsize 8, out_qsize 0\n",
      "2018-04-02 17:44:40,830 : INFO : EPOCH 1 - PROGRESS: at 90.77% examples, 36131 words/s, in_qsize 7, out_qsize 0\n",
      "2018-04-02 17:44:41,969 : INFO : EPOCH 1 - PROGRESS: at 92.00% examples, 36194 words/s, in_qsize 8, out_qsize 0\n",
      "2018-04-02 17:44:43,212 : INFO : EPOCH 1 - PROGRESS: at 93.37% examples, 36286 words/s, in_qsize 8, out_qsize 0\n",
      "2018-04-02 17:44:44,445 : INFO : EPOCH 1 - PROGRESS: at 94.74% examples, 36380 words/s, in_qsize 8, out_qsize 0\n",
      "2018-04-02 17:44:45,691 : INFO : EPOCH 1 - PROGRESS: at 96.05% examples, 36464 words/s, in_qsize 8, out_qsize 0\n",
      "2018-04-02 17:44:46,930 : INFO : EPOCH 1 - PROGRESS: at 97.36% examples, 36550 words/s, in_qsize 8, out_qsize 0\n",
      "2018-04-02 17:44:48,174 : INFO : EPOCH 1 - PROGRESS: at 98.73% examples, 36636 words/s, in_qsize 8, out_qsize 0\n",
      "2018-04-02 17:44:48,829 : INFO : worker thread finished; awaiting finish of 3 more threads\n",
      "2018-04-02 17:44:48,996 : INFO : worker thread finished; awaiting finish of 2 more threads\n",
      "2018-04-02 17:44:49,025 : INFO : worker thread finished; awaiting finish of 1 more threads\n",
      "2018-04-02 17:44:49,031 : INFO : worker thread finished; awaiting finish of 0 more threads\n",
      "2018-04-02 17:44:49,032 : INFO : EPOCH - 1 : training on 6023662 raw words (4130837 effective words) took 112.2s, 36809 effective words/s\n",
      "2018-04-02 17:44:50,270 : INFO : EPOCH 2 - PROGRESS: at 0.81% examples, 27733 words/s, in_qsize 7, out_qsize 0\n",
      "2018-04-02 17:44:51,513 : INFO : EPOCH 2 - PROGRESS: at 2.12% examples, 35825 words/s, in_qsize 8, out_qsize 0\n",
      "2018-04-02 17:44:52,735 : INFO : EPOCH 2 - PROGRESS: at 3.43% examples, 38757 words/s, in_qsize 8, out_qsize 0\n",
      "2018-04-02 17:44:53,962 : INFO : EPOCH 2 - PROGRESS: at 4.74% examples, 40221 words/s, in_qsize 8, out_qsize 0\n",
      "2018-04-02 17:44:55,237 : INFO : EPOCH 2 - PROGRESS: at 6.07% examples, 40742 words/s, in_qsize 7, out_qsize 0\n",
      "2018-04-02 17:44:56,483 : INFO : EPOCH 2 - PROGRESS: at 7.35% examples, 41318 words/s, in_qsize 8, out_qsize 0\n",
      "2018-04-02 17:44:57,728 : INFO : EPOCH 2 - PROGRESS: at 8.70% examples, 41728 words/s, in_qsize 8, out_qsize 0\n",
      "2018-04-02 17:44:58,981 : INFO : EPOCH 2 - PROGRESS: at 10.04% examples, 41987 words/s, in_qsize 7, out_qsize 0\n",
      "2018-04-02 17:45:00,213 : INFO : EPOCH 2 - PROGRESS: at 11.33% examples, 42227 words/s, in_qsize 8, out_qsize 0\n",
      "2018-04-02 17:45:01,447 : INFO : EPOCH 2 - PROGRESS: at 12.68% examples, 42439 words/s, in_qsize 8, out_qsize 0\n",
      "2018-04-02 17:45:02,672 : INFO : EPOCH 2 - PROGRESS: at 13.93% examples, 42631 words/s, in_qsize 8, out_qsize 0\n",
      "2018-04-02 17:45:03,885 : INFO : EPOCH 2 - PROGRESS: at 15.25% examples, 42816 words/s, in_qsize 7, out_qsize 0\n",
      "2018-04-02 17:45:05,121 : INFO : EPOCH 2 - PROGRESS: at 16.58% examples, 42924 words/s, in_qsize 8, out_qsize 0\n",
      "2018-04-02 17:45:06,342 : INFO : EPOCH 2 - PROGRESS: at 17.87% examples, 43058 words/s, in_qsize 8, out_qsize 0\n",
      "2018-04-02 17:45:07,589 : INFO : EPOCH 2 - PROGRESS: at 19.25% examples, 43106 words/s, in_qsize 8, out_qsize 0\n",
      "2018-04-02 17:45:08,834 : INFO : EPOCH 2 - PROGRESS: at 20.58% examples, 43152 words/s, in_qsize 8, out_qsize 0\n",
      "2018-04-02 17:45:10,076 : INFO : EPOCH 2 - PROGRESS: at 21.93% examples, 43204 words/s, in_qsize 7, out_qsize 0\n",
      "2018-04-02 17:45:11,310 : INFO : EPOCH 2 - PROGRESS: at 23.28% examples, 43272 words/s, in_qsize 7, out_qsize 0\n",
      "2018-04-02 17:45:12,527 : INFO : EPOCH 2 - PROGRESS: at 24.61% examples, 43373 words/s, in_qsize 8, out_qsize 0\n",
      "2018-04-02 17:45:13,774 : INFO : EPOCH 2 - PROGRESS: at 25.92% examples, 43412 words/s, in_qsize 8, out_qsize 0\n",
      "2018-04-02 17:45:14,999 : INFO : EPOCH 2 - PROGRESS: at 27.24% examples, 43465 words/s, in_qsize 8, out_qsize 0\n",
      "2018-04-02 17:45:16,230 : INFO : EPOCH 2 - PROGRESS: at 28.56% examples, 43517 words/s, in_qsize 8, out_qsize 0\n",
      "2018-04-02 17:45:17,468 : INFO : EPOCH 2 - PROGRESS: at 29.93% examples, 43548 words/s, in_qsize 8, out_qsize 0\n",
      "2018-04-02 17:45:18,692 : INFO : EPOCH 2 - PROGRESS: at 31.20% examples, 43594 words/s, in_qsize 7, out_qsize 0\n",
      "2018-04-02 17:45:19,934 : INFO : EPOCH 2 - PROGRESS: at 32.54% examples, 43608 words/s, in_qsize 7, out_qsize 0\n",
      "2018-04-02 17:45:21,156 : INFO : EPOCH 2 - PROGRESS: at 33.89% examples, 43646 words/s, in_qsize 8, out_qsize 0\n",
      "2018-04-02 17:45:22,402 : INFO : EPOCH 2 - PROGRESS: at 35.23% examples, 43664 words/s, in_qsize 7, out_qsize 0\n",
      "2018-04-02 17:45:23,619 : INFO : EPOCH 2 - PROGRESS: at 36.56% examples, 43722 words/s, in_qsize 8, out_qsize 0\n",
      "2018-04-02 17:45:24,866 : INFO : EPOCH 2 - PROGRESS: at 37.88% examples, 43736 words/s, in_qsize 8, out_qsize 0\n",
      "2018-04-02 17:45:26,100 : INFO : EPOCH 2 - PROGRESS: at 39.20% examples, 43764 words/s, in_qsize 8, out_qsize 0\n",
      "2018-04-02 17:45:27,329 : INFO : EPOCH 2 - PROGRESS: at 40.55% examples, 43797 words/s, in_qsize 8, out_qsize 0\n",
      "2018-04-02 17:45:28,573 : INFO : EPOCH 2 - PROGRESS: at 41.87% examples, 43802 words/s, in_qsize 8, out_qsize 0\n",
      "2018-04-02 17:45:29,778 : INFO : EPOCH 2 - PROGRESS: at 43.23% examples, 43850 words/s, in_qsize 8, out_qsize 0\n",
      "2018-04-02 17:45:30,995 : INFO : EPOCH 2 - PROGRESS: at 44.51% examples, 43880 words/s, in_qsize 8, out_qsize 0\n",
      "2018-04-02 17:45:32,219 : INFO : EPOCH 2 - PROGRESS: at 45.83% examples, 43902 words/s, in_qsize 8, out_qsize 0\n",
      "2018-04-02 17:45:33,457 : INFO : EPOCH 2 - PROGRESS: at 47.13% examples, 43916 words/s, in_qsize 7, out_qsize 0\n",
      "2018-04-02 17:45:34,707 : INFO : EPOCH 2 - PROGRESS: at 48.45% examples, 43917 words/s, in_qsize 8, out_qsize 0\n",
      "2018-04-02 17:45:35,941 : INFO : EPOCH 2 - PROGRESS: at 49.87% examples, 43932 words/s, in_qsize 7, out_qsize 0\n",
      "2018-04-02 17:45:37,167 : INFO : EPOCH 2 - PROGRESS: at 51.22% examples, 43955 words/s, in_qsize 8, out_qsize 0\n",
      "2018-04-02 17:45:38,393 : INFO : EPOCH 2 - PROGRESS: at 52.58% examples, 43974 words/s, in_qsize 8, out_qsize 0\n",
      "2018-04-02 17:45:39,690 : INFO : EPOCH 2 - PROGRESS: at 53.85% examples, 43924 words/s, in_qsize 8, out_qsize 0\n",
      "2018-04-02 17:45:40,960 : INFO : EPOCH 2 - PROGRESS: at 55.17% examples, 43910 words/s, in_qsize 8, out_qsize 0\n",
      "2018-04-02 17:45:42,197 : INFO : EPOCH 2 - PROGRESS: at 56.49% examples, 43919 words/s, in_qsize 8, out_qsize 0\n",
      "2018-04-02 17:45:43,411 : INFO : EPOCH 2 - PROGRESS: at 57.86% examples, 43943 words/s, in_qsize 8, out_qsize 0\n",
      "2018-04-02 17:45:44,668 : INFO : EPOCH 2 - PROGRESS: at 59.12% examples, 43932 words/s, in_qsize 8, out_qsize 0\n",
      "2018-04-02 17:45:45,894 : INFO : EPOCH 2 - PROGRESS: at 60.47% examples, 43943 words/s, in_qsize 8, out_qsize 0\n",
      "2018-04-02 17:45:47,154 : INFO : EPOCH 2 - PROGRESS: at 61.82% examples, 43942 words/s, in_qsize 7, out_qsize 0\n",
      "2018-04-02 17:45:48,388 : INFO : EPOCH 2 - PROGRESS: at 63.12% examples, 43953 words/s, in_qsize 8, out_qsize 0\n",
      "2018-04-02 17:45:49,626 : INFO : EPOCH 2 - PROGRESS: at 64.44% examples, 43961 words/s, in_qsize 8, out_qsize 0\n",
      "2018-04-02 17:45:50,886 : INFO : EPOCH 2 - PROGRESS: at 65.78% examples, 43953 words/s, in_qsize 8, out_qsize 0\n",
      "2018-04-02 17:45:52,165 : INFO : EPOCH 2 - PROGRESS: at 67.10% examples, 43933 words/s, in_qsize 8, out_qsize 0\n",
      "2018-04-02 17:45:53,414 : INFO : EPOCH 2 - PROGRESS: at 68.43% examples, 43937 words/s, in_qsize 8, out_qsize 0\n",
      "2018-04-02 17:45:54,639 : INFO : EPOCH 2 - PROGRESS: at 69.75% examples, 43952 words/s, in_qsize 7, out_qsize 0\n",
      "2018-04-02 17:45:55,879 : INFO : EPOCH 2 - PROGRESS: at 71.03% examples, 43957 words/s, in_qsize 8, out_qsize 0\n",
      "2018-04-02 17:45:57,084 : INFO : EPOCH 2 - PROGRESS: at 72.36% examples, 43984 words/s, in_qsize 8, out_qsize 0\n",
      "2018-04-02 17:45:58,311 : INFO : EPOCH 2 - PROGRESS: at 73.68% examples, 43998 words/s, in_qsize 8, out_qsize 0\n",
      "2018-04-02 17:45:59,517 : INFO : EPOCH 2 - PROGRESS: at 74.97% examples, 44015 words/s, in_qsize 8, out_qsize 0\n",
      "2018-04-02 17:46:00,753 : INFO : EPOCH 2 - PROGRESS: at 76.33% examples, 44020 words/s, in_qsize 8, out_qsize 0\n",
      "2018-04-02 17:46:01,968 : INFO : EPOCH 2 - PROGRESS: at 77.65% examples, 44038 words/s, in_qsize 8, out_qsize 0\n",
      "2018-04-02 17:46:03,209 : INFO : EPOCH 2 - PROGRESS: at 78.94% examples, 44037 words/s, in_qsize 7, out_qsize 0\n",
      "2018-04-02 17:46:04,435 : INFO : EPOCH 2 - PROGRESS: at 80.27% examples, 44043 words/s, in_qsize 8, out_qsize 0\n",
      "2018-04-02 17:46:05,703 : INFO : EPOCH 2 - PROGRESS: at 81.60% examples, 44029 words/s, in_qsize 8, out_qsize 0\n",
      "2018-04-02 17:46:06,965 : INFO : EPOCH 2 - PROGRESS: at 82.86% examples, 44021 words/s, in_qsize 8, out_qsize 0\n",
      "2018-04-02 17:46:08,186 : INFO : EPOCH 2 - PROGRESS: at 84.21% examples, 44031 words/s, in_qsize 7, out_qsize 0\n",
      "2018-04-02 17:46:09,425 : INFO : EPOCH 2 - PROGRESS: at 85.51% examples, 44032 words/s, in_qsize 7, out_qsize 0\n",
      "2018-04-02 17:46:10,662 : INFO : EPOCH 2 - PROGRESS: at 86.83% examples, 44037 words/s, in_qsize 8, out_qsize 0\n",
      "2018-04-02 17:46:11,889 : INFO : EPOCH 2 - PROGRESS: at 88.12% examples, 44048 words/s, in_qsize 8, out_qsize 1\n",
      "2018-04-02 17:46:13,122 : INFO : EPOCH 2 - PROGRESS: at 89.44% examples, 44057 words/s, in_qsize 7, out_qsize 0\n",
      "2018-04-02 17:46:14,341 : INFO : EPOCH 2 - PROGRESS: at 90.77% examples, 44067 words/s, in_qsize 8, out_qsize 0\n",
      "2018-04-02 17:46:15,343 : INFO : EPOCH 2 - PROGRESS: at 92.00% examples, 44109 words/s, in_qsize 7, out_qsize 0\n",
      "2018-04-02 17:46:16,599 : INFO : EPOCH 2 - PROGRESS: at 93.37% examples, 44102 words/s, in_qsize 7, out_qsize 0\n",
      "2018-04-02 17:46:17,803 : INFO : EPOCH 2 - PROGRESS: at 94.74% examples, 44122 words/s, in_qsize 7, out_qsize 0\n",
      "2018-04-02 17:46:19,031 : INFO : EPOCH 2 - PROGRESS: at 96.05% examples, 44126 words/s, in_qsize 8, out_qsize 0\n",
      "2018-04-02 17:46:20,292 : INFO : EPOCH 2 - PROGRESS: at 97.36% examples, 44114 words/s, in_qsize 8, out_qsize 0\n",
      "2018-04-02 17:46:21,500 : INFO : EPOCH 2 - PROGRESS: at 98.73% examples, 44133 words/s, in_qsize 8, out_qsize 0\n",
      "2018-04-02 17:46:22,341 : INFO : worker thread finished; awaiting finish of 3 more threads\n",
      "2018-04-02 17:46:22,371 : INFO : worker thread finished; awaiting finish of 2 more threads\n",
      "2018-04-02 17:46:22,390 : INFO : worker thread finished; awaiting finish of 1 more threads\n",
      "2018-04-02 17:46:22,397 : INFO : worker thread finished; awaiting finish of 0 more threads\n",
      "2018-04-02 17:46:22,398 : INFO : EPOCH - 2 : training on 6023662 raw words (4131440 effective words) took 93.4s, 44253 effective words/s\n",
      "2018-04-02 17:46:23,607 : INFO : EPOCH 3 - PROGRESS: at 0.81% examples, 28216 words/s, in_qsize 8, out_qsize 0\n",
      "2018-04-02 17:46:24,820 : INFO : EPOCH 3 - PROGRESS: at 2.12% examples, 36628 words/s, in_qsize 8, out_qsize 0\n",
      "2018-04-02 17:46:26,051 : INFO : EPOCH 3 - PROGRESS: at 3.43% examples, 39267 words/s, in_qsize 8, out_qsize 0\n",
      "2018-04-02 17:46:27,318 : INFO : EPOCH 3 - PROGRESS: at 4.74% examples, 40295 words/s, in_qsize 8, out_qsize 0\n",
      "2018-04-02 17:46:28,551 : INFO : EPOCH 3 - PROGRESS: at 6.07% examples, 41105 words/s, in_qsize 8, out_qsize 0\n",
      "2018-04-02 17:46:29,782 : INFO : EPOCH 3 - PROGRESS: at 7.35% examples, 41676 words/s, in_qsize 8, out_qsize 0\n",
      "2018-04-02 17:46:31,010 : INFO : EPOCH 3 - PROGRESS: at 8.70% examples, 42084 words/s, in_qsize 7, out_qsize 0\n",
      "2018-04-02 17:46:32,228 : INFO : EPOCH 3 - PROGRESS: at 10.04% examples, 42467 words/s, in_qsize 8, out_qsize 0\n",
      "2018-04-02 17:46:33,459 : INFO : EPOCH 3 - PROGRESS: at 11.33% examples, 42673 words/s, in_qsize 8, out_qsize 0\n",
      "2018-04-02 17:46:34,699 : INFO : EPOCH 3 - PROGRESS: at 12.68% examples, 42855 words/s, in_qsize 8, out_qsize 0\n",
      "2018-04-02 17:46:35,928 : INFO : EPOCH 3 - PROGRESS: at 13.97% examples, 42971 words/s, in_qsize 8, out_qsize 0\n",
      "2018-04-02 17:46:37,160 : INFO : EPOCH 3 - PROGRESS: at 15.25% examples, 43087 words/s, in_qsize 8, out_qsize 0\n",
      "2018-04-02 17:46:38,447 : INFO : EPOCH 3 - PROGRESS: at 16.58% examples, 43032 words/s, in_qsize 8, out_qsize 0\n",
      "2018-04-02 17:46:39,680 : INFO : EPOCH 3 - PROGRESS: at 17.87% examples, 43129 words/s, in_qsize 8, out_qsize 0\n",
      "2018-04-02 17:46:40,920 : INFO : EPOCH 3 - PROGRESS: at 19.25% examples, 43185 words/s, in_qsize 8, out_qsize 0\n",
      "2018-04-02 17:46:42,189 : INFO : EPOCH 3 - PROGRESS: at 20.58% examples, 43178 words/s, in_qsize 8, out_qsize 0\n",
      "2018-04-02 17:46:43,431 : INFO : EPOCH 3 - PROGRESS: at 21.93% examples, 43239 words/s, in_qsize 8, out_qsize 0\n",
      "2018-04-02 17:46:44,676 : INFO : EPOCH 3 - PROGRESS: at 23.29% examples, 43279 words/s, in_qsize 8, out_qsize 0\n",
      "2018-04-02 17:46:45,904 : INFO : EPOCH 3 - PROGRESS: at 24.61% examples, 43357 words/s, in_qsize 8, out_qsize 0\n",
      "2018-04-02 17:46:47,145 : INFO : EPOCH 3 - PROGRESS: at 25.92% examples, 43405 words/s, in_qsize 8, out_qsize 0\n",
      "2018-04-02 17:46:48,361 : INFO : EPOCH 3 - PROGRESS: at 27.24% examples, 43475 words/s, in_qsize 7, out_qsize 0\n",
      "2018-04-02 17:46:49,593 : INFO : EPOCH 3 - PROGRESS: at 28.56% examples, 43524 words/s, in_qsize 8, out_qsize 0\n",
      "2018-04-02 17:46:50,853 : INFO : EPOCH 3 - PROGRESS: at 29.93% examples, 43519 words/s, in_qsize 8, out_qsize 0\n",
      "2018-04-02 17:46:52,087 : INFO : EPOCH 3 - PROGRESS: at 31.20% examples, 43555 words/s, in_qsize 7, out_qsize 0\n",
      "2018-04-02 17:46:53,291 : INFO : EPOCH 3 - PROGRESS: at 32.54% examples, 43625 words/s, in_qsize 8, out_qsize 0\n",
      "2018-04-02 17:46:54,531 : INFO : EPOCH 3 - PROGRESS: at 33.87% examples, 43647 words/s, in_qsize 8, out_qsize 0\n",
      "2018-04-02 17:46:55,752 : INFO : EPOCH 3 - PROGRESS: at 35.23% examples, 43697 words/s, in_qsize 8, out_qsize 0\n",
      "2018-04-02 17:46:56,975 : INFO : EPOCH 3 - PROGRESS: at 36.56% examples, 43739 words/s, in_qsize 8, out_qsize 0\n",
      "2018-04-02 17:46:58,207 : INFO : EPOCH 3 - PROGRESS: at 37.86% examples, 43769 words/s, in_qsize 8, out_qsize 0\n",
      "2018-04-02 17:46:59,436 : INFO : EPOCH 3 - PROGRESS: at 39.20% examples, 43803 words/s, in_qsize 8, out_qsize 0\n",
      "2018-04-02 17:47:00,665 : INFO : EPOCH 3 - PROGRESS: at 40.55% examples, 43837 words/s, in_qsize 8, out_qsize 0\n",
      "2018-04-02 17:47:01,896 : INFO : EPOCH 3 - PROGRESS: at 41.87% examples, 43852 words/s, in_qsize 8, out_qsize 0\n",
      "2018-04-02 17:47:03,068 : INFO : EPOCH 3 - PROGRESS: at 43.23% examples, 43936 words/s, in_qsize 8, out_qsize 0\n",
      "2018-04-02 17:47:04,319 : INFO : EPOCH 3 - PROGRESS: at 44.51% examples, 43933 words/s, in_qsize 7, out_qsize 0\n",
      "2018-04-02 17:47:05,564 : INFO : EPOCH 3 - PROGRESS: at 45.83% examples, 43936 words/s, in_qsize 8, out_qsize 0\n",
      "2018-04-02 17:47:06,809 : INFO : EPOCH 3 - PROGRESS: at 47.13% examples, 43941 words/s, in_qsize 8, out_qsize 0\n",
      "2018-04-02 17:47:08,058 : INFO : EPOCH 3 - PROGRESS: at 48.45% examples, 43941 words/s, in_qsize 8, out_qsize 0\n",
      "2018-04-02 17:47:09,287 : INFO : EPOCH 3 - PROGRESS: at 49.87% examples, 43960 words/s, in_qsize 8, out_qsize 0\n",
      "2018-04-02 17:47:10,521 : INFO : EPOCH 3 - PROGRESS: at 51.22% examples, 43977 words/s, in_qsize 8, out_qsize 0\n",
      "2018-04-02 17:47:11,758 : INFO : EPOCH 3 - PROGRESS: at 52.58% examples, 43983 words/s, in_qsize 7, out_qsize 0\n",
      "2018-04-02 17:47:12,761 : INFO : EPOCH 3 - PROGRESS: at 53.69% examples, 44051 words/s, in_qsize 8, out_qsize 0\n",
      "2018-04-02 17:47:13,875 : INFO : EPOCH 3 - PROGRESS: at 54.86% examples, 44028 words/s, in_qsize 8, out_qsize 0\n",
      "2018-04-02 17:47:14,927 : INFO : EPOCH 3 - PROGRESS: at 55.98% examples, 44065 words/s, in_qsize 8, out_qsize 0\n",
      "2018-04-02 17:47:16,130 : INFO : EPOCH 3 - PROGRESS: at 57.16% examples, 43969 words/s, in_qsize 8, out_qsize 0\n",
      "2018-04-02 17:47:17,373 : INFO : EPOCH 3 - PROGRESS: at 58.50% examples, 43968 words/s, in_qsize 8, out_qsize 0\n",
      "2018-04-02 17:47:18,615 : INFO : EPOCH 3 - PROGRESS: at 59.81% examples, 43970 words/s, in_qsize 8, out_qsize 0\n",
      "2018-04-02 17:47:19,862 : INFO : EPOCH 3 - PROGRESS: at 61.16% examples, 43973 words/s, in_qsize 8, out_qsize 0\n",
      "2018-04-02 17:47:21,085 : INFO : EPOCH 3 - PROGRESS: at 62.47% examples, 43990 words/s, in_qsize 8, out_qsize 0\n",
      "2018-04-02 17:47:22,341 : INFO : EPOCH 3 - PROGRESS: at 63.76% examples, 43989 words/s, in_qsize 7, out_qsize 0\n",
      "2018-04-02 17:47:23,590 : INFO : EPOCH 3 - PROGRESS: at 65.12% examples, 43989 words/s, in_qsize 8, out_qsize 0\n",
      "2018-04-02 17:47:24,831 : INFO : EPOCH 3 - PROGRESS: at 66.46% examples, 43993 words/s, in_qsize 7, out_qsize 0\n",
      "2018-04-02 17:47:26,074 : INFO : EPOCH 3 - PROGRESS: at 67.78% examples, 43996 words/s, in_qsize 7, out_qsize 0\n",
      "2018-04-02 17:47:27,319 : INFO : EPOCH 3 - PROGRESS: at 69.08% examples, 43996 words/s, in_qsize 8, out_qsize 0\n",
      "2018-04-02 17:47:28,551 : INFO : EPOCH 3 - PROGRESS: at 70.37% examples, 44004 words/s, in_qsize 8, out_qsize 0\n",
      "2018-04-02 17:47:29,811 : INFO : EPOCH 3 - PROGRESS: at 71.68% examples, 43998 words/s, in_qsize 8, out_qsize 0\n",
      "2018-04-02 17:47:31,062 : INFO : EPOCH 3 - PROGRESS: at 73.03% examples, 43992 words/s, in_qsize 8, out_qsize 0\n",
      "2018-04-02 17:47:32,343 : INFO : EPOCH 3 - PROGRESS: at 74.32% examples, 43968 words/s, in_qsize 8, out_qsize 0\n",
      "2018-04-02 17:47:33,545 : INFO : EPOCH 3 - PROGRESS: at 75.64% examples, 43994 words/s, in_qsize 8, out_qsize 0\n",
      "2018-04-02 17:47:34,783 : INFO : EPOCH 3 - PROGRESS: at 77.01% examples, 43998 words/s, in_qsize 8, out_qsize 0\n",
      "2018-04-02 17:47:36,016 : INFO : EPOCH 3 - PROGRESS: at 78.32% examples, 44006 words/s, in_qsize 8, out_qsize 0\n",
      "2018-04-02 17:47:37,255 : INFO : EPOCH 3 - PROGRESS: at 79.61% examples, 44008 words/s, in_qsize 8, out_qsize 0\n",
      "2018-04-02 17:47:38,472 : INFO : EPOCH 3 - PROGRESS: at 80.94% examples, 44018 words/s, in_qsize 7, out_qsize 0\n",
      "2018-04-02 17:47:39,747 : INFO : EPOCH 3 - PROGRESS: at 82.22% examples, 44002 words/s, in_qsize 7, out_qsize 0\n",
      "2018-04-02 17:47:40,999 : INFO : EPOCH 3 - PROGRESS: at 83.54% examples, 43999 words/s, in_qsize 8, out_qsize 0\n",
      "2018-04-02 17:47:42,240 : INFO : EPOCH 3 - PROGRESS: at 84.87% examples, 44001 words/s, in_qsize 8, out_qsize 0\n",
      "2018-04-02 17:47:43,486 : INFO : EPOCH 3 - PROGRESS: at 86.19% examples, 43999 words/s, in_qsize 8, out_qsize 0\n",
      "2018-04-02 17:47:44,753 : INFO : EPOCH 3 - PROGRESS: at 87.46% examples, 43987 words/s, in_qsize 7, out_qsize 0\n",
      "2018-04-02 17:47:45,982 : INFO : EPOCH 3 - PROGRESS: at 88.79% examples, 43997 words/s, in_qsize 8, out_qsize 0\n",
      "2018-04-02 17:47:47,210 : INFO : EPOCH 3 - PROGRESS: at 90.09% examples, 44007 words/s, in_qsize 8, out_qsize 0\n",
      "2018-04-02 17:47:48,413 : INFO : EPOCH 3 - PROGRESS: at 91.47% examples, 44024 words/s, in_qsize 8, out_qsize 0\n",
      "2018-04-02 17:47:49,630 : INFO : EPOCH 3 - PROGRESS: at 92.86% examples, 44036 words/s, in_qsize 8, out_qsize 0\n",
      "2018-04-02 17:47:50,891 : INFO : EPOCH 3 - PROGRESS: at 94.25% examples, 44028 words/s, in_qsize 8, out_qsize 0\n",
      "2018-04-02 17:47:52,112 : INFO : EPOCH 3 - PROGRESS: at 95.58% examples, 44041 words/s, in_qsize 8, out_qsize 0\n",
      "2018-04-02 17:47:53,361 : INFO : EPOCH 3 - PROGRESS: at 96.86% examples, 44035 words/s, in_qsize 8, out_qsize 0\n",
      "2018-04-02 17:47:54,573 : INFO : EPOCH 3 - PROGRESS: at 98.23% examples, 44051 words/s, in_qsize 8, out_qsize 0\n",
      "2018-04-02 17:47:55,618 : INFO : EPOCH 3 - PROGRESS: at 99.49% examples, 44103 words/s, in_qsize 3, out_qsize 1\n",
      "2018-04-02 17:47:55,619 : INFO : worker thread finished; awaiting finish of 3 more threads\n",
      "2018-04-02 17:47:55,762 : INFO : worker thread finished; awaiting finish of 2 more threads\n",
      "2018-04-02 17:47:55,817 : INFO : worker thread finished; awaiting finish of 1 more threads\n",
      "2018-04-02 17:47:55,864 : INFO : worker thread finished; awaiting finish of 0 more threads\n",
      "2018-04-02 17:47:55,864 : INFO : EPOCH - 3 : training on 6023662 raw words (4131645 effective words) took 93.5s, 44206 effective words/s\n",
      "2018-04-02 17:47:57,088 : INFO : EPOCH 4 - PROGRESS: at 0.81% examples, 27993 words/s, in_qsize 8, out_qsize 0\n",
      "2018-04-02 17:47:58,298 : INFO : EPOCH 4 - PROGRESS: at 2.12% examples, 36543 words/s, in_qsize 8, out_qsize 0\n",
      "2018-04-02 17:47:59,525 : INFO : EPOCH 4 - PROGRESS: at 3.43% examples, 39161 words/s, in_qsize 7, out_qsize 0\n",
      "2018-04-02 17:48:00,766 : INFO : EPOCH 4 - PROGRESS: at 4.74% examples, 40427 words/s, in_qsize 8, out_qsize 0\n",
      "2018-04-02 17:48:01,991 : INFO : EPOCH 4 - PROGRESS: at 6.07% examples, 41256 words/s, in_qsize 8, out_qsize 0\n",
      "2018-04-02 17:48:03,223 : INFO : EPOCH 4 - PROGRESS: at 7.35% examples, 41839 words/s, in_qsize 8, out_qsize 0\n",
      "2018-04-02 17:48:04,461 : INFO : EPOCH 4 - PROGRESS: at 8.70% examples, 42203 words/s, in_qsize 8, out_qsize 0\n",
      "2018-04-02 17:48:05,712 : INFO : EPOCH 4 - PROGRESS: at 10.04% examples, 42413 words/s, in_qsize 8, out_qsize 0\n",
      "2018-04-02 17:48:06,950 : INFO : EPOCH 4 - PROGRESS: at 11.37% examples, 42604 words/s, in_qsize 8, out_qsize 1\n",
      "2018-04-02 17:48:08,178 : INFO : EPOCH 4 - PROGRESS: at 12.68% examples, 42793 words/s, in_qsize 8, out_qsize 0\n",
      "2018-04-02 17:48:09,392 : INFO : EPOCH 4 - PROGRESS: at 13.93% examples, 42990 words/s, in_qsize 8, out_qsize 0\n",
      "2018-04-02 17:48:10,626 : INFO : EPOCH 4 - PROGRESS: at 15.25% examples, 43093 words/s, in_qsize 8, out_qsize 0\n",
      "2018-04-02 17:48:11,865 : INFO : EPOCH 4 - PROGRESS: at 16.58% examples, 43167 words/s, in_qsize 7, out_qsize 0\n",
      "2018-04-02 17:48:13,102 : INFO : EPOCH 4 - PROGRESS: at 17.87% examples, 43239 words/s, in_qsize 8, out_qsize 0\n",
      "2018-04-02 17:48:14,347 : INFO : EPOCH 4 - PROGRESS: at 19.25% examples, 43277 words/s, in_qsize 8, out_qsize 0\n",
      "2018-04-02 17:48:15,605 : INFO : EPOCH 4 - PROGRESS: at 20.58% examples, 43286 words/s, in_qsize 8, out_qsize 0\n",
      "2018-04-02 17:48:16,823 : INFO : EPOCH 4 - PROGRESS: at 21.93% examples, 43386 words/s, in_qsize 8, out_qsize 0\n",
      "2018-04-02 17:48:18,090 : INFO : EPOCH 4 - PROGRESS: at 23.29% examples, 43376 words/s, in_qsize 7, out_qsize 0\n",
      "2018-04-02 17:48:19,312 : INFO : EPOCH 4 - PROGRESS: at 24.61% examples, 43463 words/s, in_qsize 8, out_qsize 0\n",
      "2018-04-02 17:48:20,578 : INFO : EPOCH 4 - PROGRESS: at 25.92% examples, 43466 words/s, in_qsize 8, out_qsize 0\n",
      "2018-04-02 17:48:21,800 : INFO : EPOCH 4 - PROGRESS: at 27.25% examples, 43533 words/s, in_qsize 8, out_qsize 0\n",
      "2018-04-02 17:48:23,040 : INFO : EPOCH 4 - PROGRESS: at 28.56% examples, 43564 words/s, in_qsize 7, out_qsize 0\n",
      "2018-04-02 17:48:24,268 : INFO : EPOCH 4 - PROGRESS: at 29.93% examples, 43603 words/s, in_qsize 8, out_qsize 0\n",
      "2018-04-02 17:48:25,507 : INFO : EPOCH 4 - PROGRESS: at 31.20% examples, 43628 words/s, in_qsize 8, out_qsize 0\n",
      "2018-04-02 17:48:26,730 : INFO : EPOCH 4 - PROGRESS: at 32.54% examples, 43667 words/s, in_qsize 8, out_qsize 0\n",
      "2018-04-02 17:48:27,970 : INFO : EPOCH 4 - PROGRESS: at 33.89% examples, 43678 words/s, in_qsize 8, out_qsize 0\n",
      "2018-04-02 17:48:29,222 : INFO : EPOCH 4 - PROGRESS: at 35.22% examples, 43688 words/s, in_qsize 8, out_qsize 1\n",
      "2018-04-02 17:48:30,448 : INFO : EPOCH 4 - PROGRESS: at 36.56% examples, 43732 words/s, in_qsize 8, out_qsize 0\n",
      "2018-04-02 17:48:31,678 : INFO : EPOCH 4 - PROGRESS: at 37.88% examples, 43758 words/s, in_qsize 8, out_qsize 0\n",
      "2018-04-02 17:48:32,934 : INFO : EPOCH 4 - PROGRESS: at 39.20% examples, 43759 words/s, in_qsize 7, out_qsize 0\n",
      "2018-04-02 17:48:34,147 : INFO : EPOCH 4 - PROGRESS: at 40.55% examples, 43806 words/s, in_qsize 8, out_qsize 0\n",
      "2018-04-02 17:48:35,397 : INFO : EPOCH 4 - PROGRESS: at 41.90% examples, 43801 words/s, in_qsize 8, out_qsize 0\n",
      "2018-04-02 17:48:36,591 : INFO : EPOCH 4 - PROGRESS: at 43.23% examples, 43858 words/s, in_qsize 8, out_qsize 0\n",
      "2018-04-02 17:48:37,874 : INFO : EPOCH 4 - PROGRESS: at 44.51% examples, 43820 words/s, in_qsize 8, out_qsize 0\n",
      "2018-04-02 17:48:39,157 : INFO : EPOCH 4 - PROGRESS: at 45.83% examples, 43786 words/s, in_qsize 8, out_qsize 0\n",
      "2018-04-02 17:48:40,446 : INFO : EPOCH 4 - PROGRESS: at 47.13% examples, 43751 words/s, in_qsize 7, out_qsize 0\n",
      "2018-04-02 17:48:41,653 : INFO : EPOCH 4 - PROGRESS: at 48.45% examples, 43797 words/s, in_qsize 8, out_qsize 0\n",
      "2018-04-02 17:48:42,847 : INFO : EPOCH 4 - PROGRESS: at 49.87% examples, 43851 words/s, in_qsize 8, out_qsize 0\n",
      "2018-04-02 17:48:44,056 : INFO : EPOCH 4 - PROGRESS: at 51.22% examples, 43893 words/s, in_qsize 8, out_qsize 0\n",
      "2018-04-02 17:48:45,299 : INFO : EPOCH 4 - PROGRESS: at 52.58% examples, 43896 words/s, in_qsize 8, out_qsize 0\n",
      "2018-04-02 17:48:46,554 : INFO : EPOCH 4 - PROGRESS: at 53.85% examples, 43887 words/s, in_qsize 8, out_qsize 0\n",
      "2018-04-02 17:48:47,814 : INFO : EPOCH 4 - PROGRESS: at 55.17% examples, 43878 words/s, in_qsize 8, out_qsize 0\n",
      "2018-04-02 17:48:49,041 : INFO : EPOCH 4 - PROGRESS: at 56.53% examples, 43896 words/s, in_qsize 8, out_qsize 0\n",
      "2018-04-02 17:48:50,264 : INFO : EPOCH 4 - PROGRESS: at 57.86% examples, 43911 words/s, in_qsize 7, out_qsize 0\n",
      "2018-04-02 17:48:51,498 : INFO : EPOCH 4 - PROGRESS: at 59.12% examples, 43918 words/s, in_qsize 7, out_qsize 0\n",
      "2018-04-02 17:48:52,734 : INFO : EPOCH 4 - PROGRESS: at 60.47% examples, 43927 words/s, in_qsize 8, out_qsize 0\n",
      "2018-04-02 17:48:53,973 : INFO : EPOCH 4 - PROGRESS: at 61.82% examples, 43941 words/s, in_qsize 8, out_qsize 0\n",
      "2018-04-02 17:48:55,219 : INFO : EPOCH 4 - PROGRESS: at 63.12% examples, 43947 words/s, in_qsize 7, out_qsize 0\n",
      "2018-04-02 17:48:56,449 : INFO : EPOCH 4 - PROGRESS: at 64.44% examples, 43958 words/s, in_qsize 8, out_qsize 0\n",
      "2018-04-02 17:48:57,690 : INFO : EPOCH 4 - PROGRESS: at 65.78% examples, 43963 words/s, in_qsize 8, out_qsize 0\n",
      "2018-04-02 17:48:58,933 : INFO : EPOCH 4 - PROGRESS: at 67.10% examples, 43966 words/s, in_qsize 7, out_qsize 0\n",
      "2018-04-02 17:49:00,162 : INFO : EPOCH 4 - PROGRESS: at 68.43% examples, 43985 words/s, in_qsize 7, out_qsize 0\n",
      "2018-04-02 17:49:01,393 : INFO : EPOCH 4 - PROGRESS: at 69.74% examples, 43993 words/s, in_qsize 8, out_qsize 0\n",
      "2018-04-02 17:49:02,413 : INFO : EPOCH 4 - PROGRESS: at 70.84% examples, 44044 words/s, in_qsize 8, out_qsize 0\n",
      "2018-04-02 17:49:03,633 : INFO : EPOCH 4 - PROGRESS: at 72.18% examples, 44057 words/s, in_qsize 8, out_qsize 0\n",
      "2018-04-02 17:49:04,879 : INFO : EPOCH 4 - PROGRESS: at 73.52% examples, 44055 words/s, in_qsize 8, out_qsize 0\n",
      "2018-04-02 17:49:06,187 : INFO : EPOCH 4 - PROGRESS: at 74.80% examples, 44012 words/s, in_qsize 8, out_qsize 0\n",
      "2018-04-02 17:49:07,430 : INFO : EPOCH 4 - PROGRESS: at 76.14% examples, 44011 words/s, in_qsize 8, out_qsize 0\n",
      "2018-04-02 17:49:08,663 : INFO : EPOCH 4 - PROGRESS: at 77.50% examples, 44018 words/s, in_qsize 8, out_qsize 0\n",
      "2018-04-02 17:49:09,909 : INFO : EPOCH 4 - PROGRESS: at 78.79% examples, 44014 words/s, in_qsize 8, out_qsize 0\n",
      "2018-04-02 17:49:11,137 : INFO : EPOCH 4 - PROGRESS: at 80.11% examples, 44020 words/s, in_qsize 8, out_qsize 0\n",
      "2018-04-02 17:49:12,415 : INFO : EPOCH 4 - PROGRESS: at 81.43% examples, 43999 words/s, in_qsize 8, out_qsize 0\n",
      "2018-04-02 17:49:13,660 : INFO : EPOCH 4 - PROGRESS: at 82.71% examples, 44002 words/s, in_qsize 8, out_qsize 0\n",
      "2018-04-02 17:49:14,875 : INFO : EPOCH 4 - PROGRESS: at 84.06% examples, 44018 words/s, in_qsize 8, out_qsize 0\n",
      "2018-04-02 17:49:16,100 : INFO : EPOCH 4 - PROGRESS: at 85.35% examples, 44026 words/s, in_qsize 7, out_qsize 0\n",
      "2018-04-02 17:49:17,339 : INFO : EPOCH 4 - PROGRESS: at 86.68% examples, 44027 words/s, in_qsize 8, out_qsize 0\n",
      "2018-04-02 17:49:18,587 : INFO : EPOCH 4 - PROGRESS: at 87.97% examples, 44029 words/s, in_qsize 7, out_qsize 0\n",
      "2018-04-02 17:49:19,821 : INFO : EPOCH 4 - PROGRESS: at 89.31% examples, 44035 words/s, in_qsize 7, out_qsize 0\n",
      "2018-04-02 17:49:21,045 : INFO : EPOCH 4 - PROGRESS: at 90.59% examples, 44045 words/s, in_qsize 7, out_qsize 0\n",
      "2018-04-02 17:49:22,266 : INFO : EPOCH 4 - PROGRESS: at 92.00% examples, 44054 words/s, in_qsize 8, out_qsize 0\n",
      "2018-04-02 17:49:23,559 : INFO : EPOCH 4 - PROGRESS: at 93.37% examples, 44028 words/s, in_qsize 8, out_qsize 0\n",
      "2018-04-02 17:49:24,797 : INFO : EPOCH 4 - PROGRESS: at 94.74% examples, 44032 words/s, in_qsize 8, out_qsize 0\n",
      "2018-04-02 17:49:26,054 : INFO : EPOCH 4 - PROGRESS: at 96.05% examples, 44023 words/s, in_qsize 8, out_qsize 0\n",
      "2018-04-02 17:49:27,324 : INFO : EPOCH 4 - PROGRESS: at 97.36% examples, 44009 words/s, in_qsize 8, out_qsize 0\n",
      "2018-04-02 17:49:28,547 : INFO : EPOCH 4 - PROGRESS: at 98.73% examples, 44020 words/s, in_qsize 8, out_qsize 0\n",
      "2018-04-02 17:49:29,236 : INFO : worker thread finished; awaiting finish of 3 more threads\n",
      "2018-04-02 17:49:29,298 : INFO : worker thread finished; awaiting finish of 2 more threads\n",
      "2018-04-02 17:49:29,341 : INFO : worker thread finished; awaiting finish of 1 more threads\n",
      "2018-04-02 17:49:29,381 : INFO : worker thread finished; awaiting finish of 0 more threads\n",
      "2018-04-02 17:49:29,382 : INFO : EPOCH - 4 : training on 6023662 raw words (4130350 effective words) took 93.5s, 44169 effective words/s\n",
      "2018-04-02 17:49:30,594 : INFO : EPOCH 5 - PROGRESS: at 0.81% examples, 28273 words/s, in_qsize 8, out_qsize 0\n",
      "2018-04-02 17:49:31,946 : INFO : EPOCH 5 - PROGRESS: at 2.12% examples, 34622 words/s, in_qsize 8, out_qsize 0\n",
      "2018-04-02 17:49:33,218 : INFO : EPOCH 5 - PROGRESS: at 3.43% examples, 37403 words/s, in_qsize 8, out_qsize 0\n",
      "2018-04-02 17:49:34,444 : INFO : EPOCH 5 - PROGRESS: at 4.74% examples, 39133 words/s, in_qsize 7, out_qsize 0\n",
      "2018-04-02 17:49:35,701 : INFO : EPOCH 5 - PROGRESS: at 6.07% examples, 40010 words/s, in_qsize 8, out_qsize 0\n",
      "2018-04-02 17:49:36,953 : INFO : EPOCH 5 - PROGRESS: at 7.35% examples, 40646 words/s, in_qsize 8, out_qsize 0\n",
      "2018-04-02 17:49:38,165 : INFO : EPOCH 5 - PROGRESS: at 8.70% examples, 41275 words/s, in_qsize 8, out_qsize 0\n",
      "2018-04-02 17:49:39,377 : INFO : EPOCH 5 - PROGRESS: at 10.04% examples, 41760 words/s, in_qsize 8, out_qsize 0\n",
      "2018-04-02 17:49:40,607 : INFO : EPOCH 5 - PROGRESS: at 11.33% examples, 42056 words/s, in_qsize 8, out_qsize 0\n",
      "2018-04-02 17:49:41,818 : INFO : EPOCH 5 - PROGRESS: at 12.68% examples, 42370 words/s, in_qsize 8, out_qsize 0\n",
      "2018-04-02 17:49:43,046 : INFO : EPOCH 5 - PROGRESS: at 13.93% examples, 42555 words/s, in_qsize 7, out_qsize 0\n",
      "2018-04-02 17:49:44,291 : INFO : EPOCH 5 - PROGRESS: at 15.25% examples, 42652 words/s, in_qsize 8, out_qsize 0\n",
      "2018-04-02 17:49:45,577 : INFO : EPOCH 5 - PROGRESS: at 16.58% examples, 42649 words/s, in_qsize 8, out_qsize 0\n",
      "2018-04-02 17:49:46,815 : INFO : EPOCH 5 - PROGRESS: at 17.87% examples, 42756 words/s, in_qsize 8, out_qsize 0\n",
      "2018-04-02 17:49:48,044 : INFO : EPOCH 5 - PROGRESS: at 19.25% examples, 42866 words/s, in_qsize 8, out_qsize 0\n",
      "2018-04-02 17:49:49,307 : INFO : EPOCH 5 - PROGRESS: at 20.58% examples, 42892 words/s, in_qsize 8, out_qsize 0\n",
      "2018-04-02 17:49:50,550 : INFO : EPOCH 5 - PROGRESS: at 21.93% examples, 42964 words/s, in_qsize 8, out_qsize 0\n",
      "2018-04-02 17:49:51,775 : INFO : EPOCH 5 - PROGRESS: at 23.28% examples, 43059 words/s, in_qsize 7, out_qsize 0\n",
      "2018-04-02 17:49:53,017 : INFO : EPOCH 5 - PROGRESS: at 24.61% examples, 43124 words/s, in_qsize 8, out_qsize 0\n",
      "2018-04-02 17:49:54,277 : INFO : EPOCH 5 - PROGRESS: at 25.92% examples, 43156 words/s, in_qsize 7, out_qsize 0\n",
      "2018-04-02 17:49:55,550 : INFO : EPOCH 5 - PROGRESS: at 27.24% examples, 43145 words/s, in_qsize 8, out_qsize 0\n",
      "2018-04-02 17:49:56,836 : INFO : EPOCH 5 - PROGRESS: at 28.56% examples, 43127 words/s, in_qsize 8, out_qsize 0\n",
      "2018-04-02 17:49:58,072 : INFO : EPOCH 5 - PROGRESS: at 29.93% examples, 43174 words/s, in_qsize 8, out_qsize 0\n",
      "2018-04-02 17:49:59,355 : INFO : EPOCH 5 - PROGRESS: at 31.20% examples, 43155 words/s, in_qsize 8, out_qsize 0\n",
      "2018-04-02 17:50:00,609 : INFO : EPOCH 5 - PROGRESS: at 32.54% examples, 43177 words/s, in_qsize 8, out_qsize 0\n",
      "2018-04-02 17:50:01,844 : INFO : EPOCH 5 - PROGRESS: at 33.87% examples, 43223 words/s, in_qsize 8, out_qsize 0\n",
      "2018-04-02 17:50:03,073 : INFO : EPOCH 5 - PROGRESS: at 35.23% examples, 43275 words/s, in_qsize 8, out_qsize 0\n",
      "2018-04-02 17:50:04,305 : INFO : EPOCH 5 - PROGRESS: at 36.56% examples, 43326 words/s, in_qsize 8, out_qsize 0\n",
      "2018-04-02 17:50:05,322 : INFO : EPOCH 5 - PROGRESS: at 37.69% examples, 43434 words/s, in_qsize 8, out_qsize 0\n",
      "2018-04-02 17:50:06,381 : INFO : EPOCH 5 - PROGRESS: at 38.88% examples, 43495 words/s, in_qsize 8, out_qsize 0\n",
      "2018-04-02 17:50:07,413 : INFO : EPOCH 5 - PROGRESS: at 39.20% examples, 42674 words/s, in_qsize 8, out_qsize 0\n",
      "2018-04-02 17:50:08,638 : INFO : EPOCH 5 - PROGRESS: at 40.55% examples, 42739 words/s, in_qsize 7, out_qsize 0\n",
      "2018-04-02 17:50:09,854 : INFO : EPOCH 5 - PROGRESS: at 41.87% examples, 42804 words/s, in_qsize 8, out_qsize 0\n",
      "2018-04-02 17:50:11,056 : INFO : EPOCH 5 - PROGRESS: at 43.23% examples, 42883 words/s, in_qsize 7, out_qsize 0\n",
      "2018-04-02 17:50:12,071 : INFO : EPOCH 5 - PROGRESS: at 44.35% examples, 42986 words/s, in_qsize 8, out_qsize 0\n",
      "2018-04-02 17:50:13,191 : INFO : EPOCH 5 - PROGRESS: at 45.50% examples, 42977 words/s, in_qsize 7, out_qsize 0\n",
      "2018-04-02 17:50:14,281 : INFO : EPOCH 5 - PROGRESS: at 46.64% examples, 43005 words/s, in_qsize 8, out_qsize 0\n",
      "2018-04-02 17:50:15,426 : INFO : EPOCH 5 - PROGRESS: at 47.77% examples, 42979 words/s, in_qsize 8, out_qsize 0\n",
      "2018-04-02 17:50:16,429 : INFO : EPOCH 5 - PROGRESS: at 49.06% examples, 43081 words/s, in_qsize 8, out_qsize 0\n",
      "2018-04-02 17:50:17,547 : INFO : EPOCH 5 - PROGRESS: at 50.21% examples, 43078 words/s, in_qsize 8, out_qsize 0\n",
      "2018-04-02 17:50:18,616 : INFO : EPOCH 5 - PROGRESS: at 51.22% examples, 42982 words/s, in_qsize 7, out_qsize 0\n",
      "2018-04-02 17:50:19,860 : INFO : EPOCH 5 - PROGRESS: at 52.58% examples, 43006 words/s, in_qsize 8, out_qsize 0\n",
      "2018-04-02 17:50:21,094 : INFO : EPOCH 5 - PROGRESS: at 53.85% examples, 43037 words/s, in_qsize 8, out_qsize 0\n",
      "2018-04-02 17:50:22,113 : INFO : EPOCH 5 - PROGRESS: at 55.03% examples, 43115 words/s, in_qsize 8, out_qsize 0\n",
      "2018-04-02 17:50:23,247 : INFO : EPOCH 5 - PROGRESS: at 56.17% examples, 43103 words/s, in_qsize 8, out_qsize 0\n",
      "2018-04-02 17:50:24,277 : INFO : EPOCH 5 - PROGRESS: at 57.32% examples, 43161 words/s, in_qsize 7, out_qsize 0\n",
      "2018-04-02 17:50:25,470 : INFO : EPOCH 5 - PROGRESS: at 58.50% examples, 43097 words/s, in_qsize 8, out_qsize 0\n",
      "2018-04-02 17:50:26,717 : INFO : EPOCH 5 - PROGRESS: at 59.81% examples, 43111 words/s, in_qsize 7, out_qsize 0\n",
      "2018-04-02 17:50:27,972 : INFO : EPOCH 5 - PROGRESS: at 61.16% examples, 43124 words/s, in_qsize 7, out_qsize 0\n",
      "2018-04-02 17:50:29,232 : INFO : EPOCH 5 - PROGRESS: at 62.47% examples, 43127 words/s, in_qsize 7, out_qsize 0\n",
      "2018-04-02 17:50:30,492 : INFO : EPOCH 5 - PROGRESS: at 63.76% examples, 43138 words/s, in_qsize 7, out_qsize 0\n",
      "2018-04-02 17:50:31,743 : INFO : EPOCH 5 - PROGRESS: at 65.12% examples, 43154 words/s, in_qsize 8, out_qsize 0\n",
      "2018-04-02 17:50:33,002 : INFO : EPOCH 5 - PROGRESS: at 66.46% examples, 43164 words/s, in_qsize 8, out_qsize 0\n",
      "2018-04-02 17:50:34,339 : INFO : EPOCH 5 - PROGRESS: at 67.75% examples, 43122 words/s, in_qsize 8, out_qsize 0\n",
      "2018-04-02 17:50:35,639 : INFO : EPOCH 5 - PROGRESS: at 69.07% examples, 43099 words/s, in_qsize 7, out_qsize 0\n",
      "2018-04-02 17:50:36,938 : INFO : EPOCH 5 - PROGRESS: at 70.37% examples, 43083 words/s, in_qsize 7, out_qsize 0\n",
      "2018-04-02 17:50:38,141 : INFO : EPOCH 5 - PROGRESS: at 71.36% examples, 42929 words/s, in_qsize 7, out_qsize 0\n",
      "2018-04-02 17:50:39,161 : INFO : EPOCH 5 - PROGRESS: at 72.52% examples, 42988 words/s, in_qsize 8, out_qsize 0\n",
      "2018-04-02 17:50:40,337 : INFO : EPOCH 5 - PROGRESS: at 73.68% examples, 42948 words/s, in_qsize 8, out_qsize 0\n",
      "2018-04-02 17:50:41,445 : INFO : EPOCH 5 - PROGRESS: at 74.65% examples, 42858 words/s, in_qsize 8, out_qsize 0\n",
      "2018-04-02 17:50:42,726 : INFO : EPOCH 5 - PROGRESS: at 75.99% examples, 42855 words/s, in_qsize 8, out_qsize 0\n",
      "2018-04-02 17:50:43,988 : INFO : EPOCH 5 - PROGRESS: at 77.34% examples, 42866 words/s, in_qsize 8, out_qsize 0\n",
      "2018-04-02 17:50:45,207 : INFO : EPOCH 5 - PROGRESS: at 78.63% examples, 42900 words/s, in_qsize 7, out_qsize 0\n",
      "2018-04-02 17:50:46,435 : INFO : EPOCH 5 - PROGRESS: at 79.94% examples, 42926 words/s, in_qsize 8, out_qsize 0\n",
      "2018-04-02 17:50:47,664 : INFO : EPOCH 5 - PROGRESS: at 81.27% examples, 42948 words/s, in_qsize 8, out_qsize 0\n",
      "2018-04-02 17:50:48,913 : INFO : EPOCH 5 - PROGRESS: at 82.56% examples, 42967 words/s, in_qsize 8, out_qsize 0\n",
      "2018-04-02 17:50:50,113 : INFO : EPOCH 5 - PROGRESS: at 83.88% examples, 43006 words/s, in_qsize 7, out_qsize 0\n",
      "2018-04-02 17:50:51,139 : INFO : EPOCH 5 - PROGRESS: at 84.87% examples, 42967 words/s, in_qsize 8, out_qsize 0\n",
      "2018-04-02 17:50:52,182 : INFO : EPOCH 5 - PROGRESS: at 86.03% examples, 43005 words/s, in_qsize 7, out_qsize 0\n",
      "2018-04-02 17:50:53,307 : INFO : EPOCH 5 - PROGRESS: at 87.15% examples, 42995 words/s, in_qsize 7, out_qsize 0\n",
      "2018-04-02 17:50:54,326 : INFO : EPOCH 5 - PROGRESS: at 88.27% examples, 43044 words/s, in_qsize 7, out_qsize 0\n",
      "2018-04-02 17:50:55,498 : INFO : EPOCH 5 - PROGRESS: at 89.44% examples, 43017 words/s, in_qsize 8, out_qsize 0\n",
      "2018-04-02 17:50:56,533 : INFO : EPOCH 5 - PROGRESS: at 90.59% examples, 43056 words/s, in_qsize 7, out_qsize 0\n",
      "2018-04-02 17:50:57,696 : INFO : EPOCH 5 - PROGRESS: at 91.83% examples, 43029 words/s, in_qsize 8, out_qsize 0\n",
      "2018-04-02 17:50:58,931 : INFO : EPOCH 5 - PROGRESS: at 93.19% examples, 43047 words/s, in_qsize 8, out_qsize 0\n",
      "2018-04-02 17:51:00,168 : INFO : EPOCH 5 - PROGRESS: at 94.57% examples, 43065 words/s, in_qsize 8, out_qsize 0\n",
      "2018-04-02 17:51:01,414 : INFO : EPOCH 5 - PROGRESS: at 95.90% examples, 43075 words/s, in_qsize 8, out_qsize 0\n",
      "2018-04-02 17:51:02,430 : INFO : EPOCH 5 - PROGRESS: at 97.03% examples, 43117 words/s, in_qsize 7, out_qsize 0\n",
      "2018-04-02 17:51:03,549 : INFO : EPOCH 5 - PROGRESS: at 98.23% examples, 43114 words/s, in_qsize 8, out_qsize 0\n",
      "2018-04-02 17:51:04,564 : INFO : EPOCH 5 - PROGRESS: at 99.24% examples, 43086 words/s, in_qsize 6, out_qsize 0\n",
      "2018-04-02 17:51:04,821 : INFO : worker thread finished; awaiting finish of 3 more threads\n",
      "2018-04-02 17:51:04,847 : INFO : worker thread finished; awaiting finish of 2 more threads\n",
      "2018-04-02 17:51:04,890 : INFO : worker thread finished; awaiting finish of 1 more threads\n",
      "2018-04-02 17:51:05,039 : INFO : worker thread finished; awaiting finish of 0 more threads\n",
      "2018-04-02 17:51:05,039 : INFO : EPOCH - 5 : training on 6023662 raw words (4131238 effective words) took 95.7s, 43189 effective words/s\n",
      "2018-04-02 17:51:05,040 : INFO : training on a 30118310 raw words (20655510 effective words) took 488.2s, 42306 effective words/s\n",
      "2018-04-02 17:51:05,041 : INFO : precomputing L2-norms of word weight vectors\n",
      "2018-04-02 17:51:05,137 : INFO : saving Word2Vec object under 300features_40minwords_10context, separately None\n",
      "2018-04-02 17:51:05,138 : INFO : not storing attribute vectors_norm\n",
      "2018-04-02 17:51:05,139 : INFO : not storing attribute cum_table\n",
      "2018-04-02 17:51:05,338 : INFO : saved 300features_40minwords_10context\n"
     ]
    }
   ],
   "source": [
    "# Import the built-in logging module and configure it so that Word2Vec \n",
    "# creates nice output messages\n",
    "import logging\n",
    "logging.basicConfig(format='%(asctime)s : %(levelname)s : %(message)s',\\\n",
    "    level=logging.INFO)\n",
    "\n",
    "# Set values for various parameters\n",
    "num_features = 300    # Word vector dimensionality                      \n",
    "min_word_count = 40   # Minimum word count                        \n",
    "num_workers = 4       # Number of threads to run in parallel\n",
    "context = 10          # Context window size                                                                                    \n",
    "downsampling = 1e-3   # Downsample setting for frequent words\n",
    "\n",
    "# Initialize and train the model (this will take some time)\n",
    "from gensim.models import word2vec\n",
    "print \"Training model...\"\n",
    "model = word2vec.Word2Vec(sentencesflat, workers=num_workers, \\\n",
    "            size=num_features, min_count = min_word_count, \\\n",
    "            window = context, sample = downsampling)\n",
    "\n",
    "# If you don't plan to train the model any further, calling \n",
    "# init_sims will make the model much more memory-efficient.\n",
    "model.init_sims(replace=True)\n",
    "\n",
    "# It can be helpful to create a meaningful model name and \n",
    "# save the model for later use. You can load it later using Word2Vec.load()\n",
    "model_name = \"300features_40minwords_10context\"\n",
    "model.save(model_name)"
   ]
  },
  {
   "cell_type": "code",
   "execution_count": 202,
   "metadata": {
    "collapsed": false
   },
   "outputs": [],
   "source": [
    "#model.accuracy('https://raw.githubusercontent.com/RaRe-Technologies/gensim/develop/gensim/test/test_data/questions-words.txt')"
   ]
  },
  {
   "cell_type": "markdown",
   "metadata": {},
   "source": [
    "# what should we do for whole sentence\n",
    "\n",
    "## 1. Vector Averaging"
   ]
  },
  {
   "cell_type": "code",
   "execution_count": 252,
   "metadata": {
    "collapsed": false
   },
   "outputs": [],
   "source": [
    "def makeFeatureVec(words, model, num_features):\n",
    "    # Function to average all of the word vectors in a given\n",
    "    # paragraph\n",
    "    #\n",
    "    # Pre-initialize an empty numpy array (for speed)\n",
    "    featureVec = np.zeros((num_features,),dtype=\"float32\")\n",
    "    #\n",
    "    nwords = 0.\n",
    "    # \n",
    "    # Index2word is a list that contains the names of the words in \n",
    "    # the model's vocabulary. Convert it to a set, for speed \n",
    "    index2word_set = set(model.wv.index2word)\n",
    "    #\n",
    "    # Loop over each word in the review and, if it is in the model's\n",
    "    # vocaublary, add its feature vector to the total\n",
    "    for word in words:\n",
    "        if word in index2word_set: \n",
    "            nwords = nwords + 1.\n",
    "            featureVec = np.add(featureVec,model.wv[word])\n",
    "    # \n",
    "    # Divide the result by the number of words to get the average\n",
    "    featureVec = np.divide(featureVec,nwords)\n",
    "    return featureVec\n",
    "\n",
    "\n",
    "def getAvgFeatureVecs(reviews, model, num_features):\n",
    "    # Given a set of reviews (each one a list of words), calculate \n",
    "    # the average feature vector for each one and return a 2D numpy array \n",
    "    # \n",
    "    # Initialize a counter\n",
    "    counter = 0\n",
    "    # \n",
    "    # Preallocate a 2D numpy array, for speed\n",
    "    reviewFeatureVecs = np.zeros((len(reviews),num_features),dtype=\"float32\")\n",
    "    # \n",
    "    # Loop through the reviews\n",
    "    for review in reviews:\n",
    "        # Print a status message every 1000th review\n",
    "        if counter%10000 == 0:\n",
    "            print \"Review %d of %d\" % (counter, len(reviews))\n",
    "        # \n",
    "        # Call the function (defined above) that makes average feature vectors\n",
    "        reviewFeatureVecs[counter] = makeFeatureVec(review, model, \\\n",
    "           num_features)\n",
    "        #\n",
    "        # Increment the counter\n",
    "        counter = counter + 1\n",
    "    return reviewFeatureVecs\n"
   ]
  },
  {
   "cell_type": "code",
   "execution_count": 231,
   "metadata": {
    "collapsed": false
   },
   "outputs": [],
   "source": [
    "originalreview = pd.read_csv( \"data/labeledTrainData.tsv\", header=0, \n",
    "                             delimiter=\"\\t\", quoting=3 , encoding = 'utf8').review\n",
    "sentences = map(lambda var: word_clean(var, remove_stopwords=True), originalreview)\n",
    "sentences = map(lambda var: var.split(),sentences)"
   ]
  },
  {
   "cell_type": "code",
   "execution_count": 253,
   "metadata": {
    "collapsed": false
   },
   "outputs": [
    {
     "name": "stdout",
     "output_type": "stream",
     "text": [
      "Review 0 of 25000\n",
      "Review 10000 of 25000\n",
      "Review 20000 of 25000\n"
     ]
    }
   ],
   "source": [
    "X = getAvgFeatureVecs(sentences,model, num_features)\n",
    "\n",
    "X = np.concatenate([X, np.array(traindf[['textblod-polarity','textblod-subjectivity', 'vaderSentiment-compound',\n",
    "            'vaderSentiment-neg','vaderSentiment-neu','vaderSentiment-pos']])],axis = 1)\n",
    "X_train, X_test, y_train, y_test = train_test_split( X, y, test_size=0.30, random_state=325)"
   ]
  },
  {
   "cell_type": "code",
   "execution_count": 257,
   "metadata": {
    "collapsed": false
   },
   "outputs": [
    {
     "name": "stdout",
     "output_type": "stream",
     "text": [
      "[[3073  625]\n",
      " [ 554 3248]]\n",
      "\n",
      "\n",
      "             precision    recall  f1-score   support\n",
      "\n",
      "          0       0.85      0.83      0.84      3698\n",
      "          1       0.84      0.85      0.85      3802\n",
      "\n",
      "avg / total       0.84      0.84      0.84      7500\n",
      "\n"
     ]
    }
   ],
   "source": [
    "rfc = RandomForestClassifier(n_estimators=150)\n",
    "rfc.fit(X_train,y_train)\n",
    "pred = rfc.predict(X_test)\n",
    "\n",
    "print confusion_matrix(y_test,pred)\n",
    "print '\\n'\n",
    "print classification_report(y_test,pred)"
   ]
  },
  {
   "cell_type": "markdown",
   "metadata": {},
   "source": [
    "## 2. Clustering ¶"
   ]
  },
  {
   "cell_type": "code",
   "execution_count": 269,
   "metadata": {
    "collapsed": false
   },
   "outputs": [
    {
     "name": "stdout",
     "output_type": "stream",
     "text": [
      "Time taken for K Means clustering:  147.568068027 seconds.\n"
     ]
    }
   ],
   "source": [
    "from sklearn.cluster import KMeans\n",
    "import time\n",
    "\n",
    "start = time.time() # Start time\n",
    "\n",
    "# Set \"k\" (num_clusters) to be 1/5th of the vocabulary size, or an\n",
    "# average of 5 words per cluster\n",
    "word_vectors = model.trainables.syn1neg\n",
    "num_clusters = word_vectors.shape[0] / 5\n",
    "\n",
    "# Initalize a k-means object and use it to extract centroids\n",
    "kmeans_clustering = KMeans( n_clusters = num_clusters )\n",
    "idx = kmeans_clustering.fit_predict( word_vectors )\n",
    "\n",
    "# Get the end time and print how long the process took\n",
    "end = time.time()\n",
    "elapsed = end - start\n",
    "print \"Time taken for K Means clustering: \", elapsed, \"seconds.\""
   ]
  },
  {
   "cell_type": "code",
   "execution_count": 275,
   "metadata": {
    "collapsed": false
   },
   "outputs": [
    {
     "name": "stdout",
     "output_type": "stream",
     "text": [
      "\n",
      "Cluster 0\n",
      "['chase']\n",
      "\n",
      "Cluster 1\n",
      "['Brendan', 'psychiatrist', 'Dahmer', 'Othello', 'maker', 'adaption', 'Gerard', 'painter', 'editor', 'penned', 'playwright', 'biography', 'journalist', 'novelist', 'Antwone', 'Von', 'Blaise', 'author', 'Luzhin']\n",
      "\n",
      "Cluster 2\n",
      "['cream', 'incest', 'r', 'grand', 'smoking', 'cup', 'pot', 'tea']\n",
      "\n",
      "Cluster 3\n",
      "['bank', 'dogs', 'gambling', 'spree', 'Marty', 'cattle', 'rob', 'tribe', 'rid', 'collect']\n"
     ]
    }
   ],
   "source": [
    "# Create a Word / Index dictionary, mapping each vocabulary word to\n",
    "# a cluster number                                                                                            \n",
    "word_centroid_map = dict(zip( model.wv.index2word, idx ))\n",
    "\n",
    "# For the first 10 clusters\n",
    "for cluster in xrange(0,4):\n",
    "    #\n",
    "    # Print the cluster number  \n",
    "    print \"\\nCluster %d\" % cluster\n",
    "    #\n",
    "    # Find all of the words for that cluster number, and print them out\n",
    "    words = []\n",
    "    for i in xrange(0,len(word_centroid_map.values())):\n",
    "        if( word_centroid_map.values()[i] == cluster ):\n",
    "            words.append(word_centroid_map.keys()[i])\n",
    "    print words"
   ]
  },
  {
   "cell_type": "code",
   "execution_count": 276,
   "metadata": {
    "collapsed": true
   },
   "outputs": [],
   "source": [
    "def create_bag_of_centroids( wordlist, word_centroid_map ):\n",
    "    #\n",
    "    # The number of clusters is equal to the highest cluster index\n",
    "    # in the word / centroid map\n",
    "    num_centroids = max( word_centroid_map.values() ) + 1\n",
    "    #\n",
    "    # Pre-allocate the bag of centroids vector (for speed)\n",
    "    bag_of_centroids = np.zeros( num_centroids, dtype=\"float32\" )\n",
    "    #\n",
    "    # Loop over the words in the review. If the word is in the vocabulary,\n",
    "    # find which cluster it belongs to, and increment that cluster count \n",
    "    # by one\n",
    "    for word in wordlist:\n",
    "        if word in word_centroid_map:\n",
    "            index = word_centroid_map[word]\n",
    "            bag_of_centroids[index] += 1\n",
    "    #\n",
    "    # Return the \"bag of centroids\"\n",
    "    return bag_of_centroids"
   ]
  },
  {
   "cell_type": "code",
   "execution_count": 279,
   "metadata": {
    "collapsed": true
   },
   "outputs": [],
   "source": [
    "# Pre-allocate an array for the training set bags of centroids (for speed)\n",
    "train_centroids = np.zeros( (len(sentences), num_clusters), \\\n",
    "    dtype=\"float32\" )\n",
    "\n",
    "# Transform the training set reviews into bags of centroids\n",
    "counter = 0\n",
    "for review in sentences:\n",
    "    train_centroids[counter] = create_bag_of_centroids( review, \\\n",
    "        word_centroid_map )\n",
    "    counter += 1"
   ]
  },
  {
   "cell_type": "code",
   "execution_count": 281,
   "metadata": {
    "collapsed": false
   },
   "outputs": [
    {
     "name": "stdout",
     "output_type": "stream",
     "text": [
      "[[3121  577]\n",
      " [ 616 3186]]\n",
      "\n",
      "\n",
      "             precision    recall  f1-score   support\n",
      "\n",
      "          0       0.84      0.84      0.84      3698\n",
      "          1       0.85      0.84      0.84      3802\n",
      "\n",
      "avg / total       0.84      0.84      0.84      7500\n",
      "\n"
     ]
    }
   ],
   "source": [
    "X = np.concatenate([train_centroids, np.array(traindf[['textblod-polarity','textblod-subjectivity', 'vaderSentiment-compound',\n",
    "            'vaderSentiment-neg','vaderSentiment-neu','vaderSentiment-pos']])],axis = 1)\n",
    "X_train, X_test, y_train, y_test = train_test_split( X, y, test_size=0.30, random_state=325)\n",
    "rfc = RandomForestClassifier(n_estimators=150)\n",
    "rfc.fit(X_train,y_train)\n",
    "pred = rfc.predict(X_test)\n",
    "\n",
    "print confusion_matrix(y_test,pred)\n",
    "print '\\n'\n",
    "print classification_report(y_test,pred)"
   ]
  },
  {
   "cell_type": "markdown",
   "metadata": {},
   "source": [
    "# TF-IDF"
   ]
  },
  {
   "cell_type": "code",
   "execution_count": 285,
   "metadata": {
    "collapsed": true
   },
   "outputs": [],
   "source": [
    "def text_preprocess(sentence):\n",
    "    # 1. Remove HTML\n",
    "    review_text = BeautifulSoup(sentence).get_text() \n",
    "    # 2. Remove non-letters        \n",
    "    letters_only = re.sub(\"[^a-zA-Z]\", \" \", review_text) \n",
    "    # 3. Convert to lower case, split into individual words\n",
    "    words = letters_only.lower().split()                             \n",
    "    # 4. Remove stop words\n",
    "    stops = set(stopwords.words(\"english\"))                   \n",
    "    meaningful_words = [w for w in words if not w in stops]   \n",
    "\n",
    "    return meaningful_words "
   ]
  },
  {
   "cell_type": "code",
   "execution_count": null,
   "metadata": {
    "collapsed": true
   },
   "outputs": [],
   "source": [
    "sub = "
   ]
  },
  {
   "cell_type": "code",
   "execution_count": null,
   "metadata": {
    "collapsed": true
   },
   "outputs": [],
   "source": [
    "from sklearn.pipeline import Pipeline\n",
    "from sklearn.feature_extraction.text import TfidfTransformer\n",
    "from sklearn.linear_model import LogisticRegression\n",
    "from sklearn.pipeline import FeatureUnion\n",
    "pipeline1 = Pipeline([\n",
    "    ('bow', CountVectorizer(analyzer=text_preprocess)),  # strings to token integer counts\n",
    "    ('tfidf', TfidfTransformer()),  # integer counts to weighted TF-IDF scores\n",
    "    ('classifier', MultinomialNB()),  # train on TF-IDF vectors w/ Naive Bayes classifier\n",
    "])\n",
    "\n",
    "pipeline2 = Pipeline([\n",
    "    ('bow', CountVectorizer(analyzer=text_preprocess)),  # strings to token integer counts\n",
    "    ('tfidf', TfidfTransformer()),  # integer counts to weighted TF-IDF scores\n",
    "    ('classifier', RandomForestClassifier(n_estimators=150)),  # train on TF-IDF vectors w/ Naive Bayes classifier\n",
    "])\n",
    "\n",
    "pipeline3 = Pipeline([\n",
    "    ('bow', CountVectorizer(min_df=3,  max_features=None, \n",
    "        strip_accents='unicode', analyzer=text_preprocess,token_pattern=r'\\w{1,}',\n",
    "        ngram_range=(1, 2),  stop_words = 'english')),  # strings to token integer counts\n",
    "    ('tfidf', TfidfTransformer()),  # integer counts to weighted TF-IDF scores\n",
    "    ('classifier', LogisticRegression(penalty='l2', dual=True, tol=0.0001, \n",
    "                         C=1, fit_intercept=True, intercept_scaling=1.0, \n",
    "                         class_weight=None, random_state=None)),  # train on TF-IDF vectors w/ Naive Bayes classifier\n",
    "])\n",
    "\n",
    "\n",
    "pipeline4 = Pipeline([('vec', CountVectorizer(\n",
    "    binary=False,\n",
    "    tokenizer=lambda text: text.split(),\n",
    "    max_df=0.5,\n",
    "    max_features=None,\n",
    "    stop_words=None,\n",
    "    ngram_range=(1,2))),\n",
    "('tfidf', TfidfTransformer(\n",
    "    norm='l2',\n",
    "    use_idf=True,\n",
    "    sublinear_tf=False)),\n",
    "('clf', MultinomialNB(alpha=0.1))])"
   ]
  },
  {
   "cell_type": "code",
   "execution_count": 292,
   "metadata": {
    "collapsed": false
   },
   "outputs": [
    {
     "name": "stdout",
     "output_type": "stream",
     "text": [
      "[[3209  558]\n",
      " [ 539 3194]]\n",
      "\n",
      "             precision    recall  f1-score   support\n",
      "\n",
      "          0       0.86      0.85      0.85      3767\n",
      "          1       0.85      0.86      0.85      3733\n",
      "\n",
      "avg / total       0.85      0.85      0.85      7500\n",
      "\n"
     ]
    }
   ],
   "source": [
    "msg_train, msg_test, label_train, label_test = train_test_split(traindf.review, traindf.sentiment, \n",
    "                                                                test_size=0.3, random_state=325)\n",
    "\n",
    "pipeline2.fit(msg_train,label_train)\n",
    "predictions2 = pipeline2.predict(msg_test)\n",
    "print confusion_matrix(label_test,predictions2)\n",
    "print \n",
    "print classification_report(label_test,predictions2)"
   ]
  },
  {
   "cell_type": "code",
   "execution_count": 294,
   "metadata": {
    "collapsed": false
   },
   "outputs": [
    {
     "name": "stdout",
     "output_type": "stream",
     "text": [
      "[[3286  481]\n",
      " [ 541 3192]]\n",
      "\n",
      "             precision    recall  f1-score   support\n",
      "\n",
      "          0       0.86      0.87      0.87      3767\n",
      "          1       0.87      0.86      0.86      3733\n",
      "\n",
      "avg / total       0.86      0.86      0.86      7500\n",
      "\n"
     ]
    }
   ],
   "source": [
    "pipeline1.fit(msg_train,label_train)\n",
    "predictions1 = pipeline1.predict(msg_test)\n",
    "print confusion_matrix(label_test,predictions1)\n",
    "print \n",
    "print classification_report(label_test,predictions1)"
   ]
  },
  {
   "cell_type": "code",
   "execution_count": 309,
   "metadata": {
    "collapsed": false
   },
   "outputs": [
    {
     "name": "stdout",
     "output_type": "stream",
     "text": [
      "[[3299  468]\n",
      " [ 346 3387]]\n",
      "\n",
      "             precision    recall  f1-score   support\n",
      "\n",
      "          0       0.91      0.88      0.89      3767\n",
      "          1       0.88      0.91      0.89      3733\n",
      "\n",
      "avg / total       0.89      0.89      0.89      7500\n",
      "\n"
     ]
    }
   ],
   "source": [
    "pipeline3.fit(msg_train,label_train)\n",
    "predictions3 = pipeline3.predict(msg_test)\n",
    "print confusion_matrix(label_test,predictions3)\n",
    "print \n",
    "print classification_report(label_test,predictions3)"
   ]
  },
  {
   "cell_type": "code",
   "execution_count": 313,
   "metadata": {
    "collapsed": false
   },
   "outputs": [
    {
     "name": "stdout",
     "output_type": "stream",
     "text": [
      "[[3310  457]\n",
      " [ 401 3332]]\n",
      "\n",
      "             precision    recall  f1-score   support\n",
      "\n",
      "          0       0.89      0.88      0.89      3767\n",
      "          1       0.88      0.89      0.89      3733\n",
      "\n",
      "avg / total       0.89      0.89      0.89      7500\n",
      "\n"
     ]
    }
   ],
   "source": [
    "pipeline4.fit(msg_train,label_train)\n",
    "predictions4 = pipeline4.predict(msg_test)\n",
    "print confusion_matrix(label_test,predictions4)\n",
    "print \n",
    "print classification_report(label_test,predictions4)"
   ]
  },
  {
   "cell_type": "code",
   "execution_count": 374,
   "metadata": {
    "collapsed": false
   },
   "outputs": [],
   "source": [
    "from sklearn.base import BaseEstimator, TransformerMixin\n",
    "class ItemSelector(BaseEstimator, TransformerMixin):\n",
    "    \"\"\"For data grouped by feature, select subset of data at a provided key.\n",
    "\n",
    "    The data is expected to be stored in a 2D data structure, where the first\n",
    "    index is over features and the second is over samples.  i.e.\n",
    "\n",
    "    >> len(data[key]) == n_samples\n",
    "\n",
    "    Please note that this is the opposite convention to scikit-learn feature\n",
    "    matrixes (where the first index corresponds to sample).\n",
    "\n",
    "    ItemSelector only requires that the collection implement getitem\n",
    "    (data[key]).  Examples include: a dict of lists, 2D numpy array, Pandas\n",
    "    DataFrame, numpy record array, etc.\n",
    "\n",
    "    >> data = {'a': [1, 5, 2, 5, 2, 8],\n",
    "               'b': [9, 4, 1, 4, 1, 3]}\n",
    "    >> ds = ItemSelector(key='a')\n",
    "    >> data['a'] == ds.transform(data)\n",
    "\n",
    "    ItemSelector is not designed to handle data grouped by sample.  (e.g. a\n",
    "    list of dicts).  If your data is structured this way, consider a\n",
    "    transformer along the lines of `sklearn.feature_extraction.DictVectorizer`.\n",
    "\n",
    "    Parameters\n",
    "    ----------\n",
    "    key : hashable, required\n",
    "        The key corresponding to the desired value in a mappable.\n",
    "    \"\"\"\n",
    "    def __init__(self, key):\n",
    "        self.key = key\n",
    "\n",
    "    def fit(self, x, y=None):\n",
    "        return self\n",
    "\n",
    "    def transform(self, data_dict):\n",
    "        return data_dict[self.key]\n",
    "\n",
    "pipeline5 = Pipeline([\n",
    "        ('union', FeatureUnion(\n",
    "            transformer_list=[\n",
    "            ('tfidf_out', Pipeline([\n",
    "                ('selector', ItemSelector(key='review')),\n",
    "                ('bow', CountVectorizer(min_df=3,  max_features=None, \n",
    "                            strip_accents='unicode', analyzer=text_preprocess,token_pattern=r'\\w{1,}',\n",
    "                            ngram_range=(1, 2),  stop_words = 'english')),  # strings to token integer counts\n",
    "                ('tfidf', TfidfTransformer())])),\n",
    "            ('body_bow', Pipeline([\n",
    "                ('selector', ItemSelector(key=['textblod-polarity','textblod-subjectivity', 'vaderSentiment-compound',\n",
    "            'vaderSentiment-neg','vaderSentiment-neu','vaderSentiment-pos']))]))],\n",
    "        )),\n",
    "        ('classifier', LogisticRegression(penalty='l2', dual=True, tol=0.0001, \n",
    "                         C=1, fit_intercept=True, intercept_scaling=1.0, \n",
    "                         class_weight=None, random_state=None))  ])\n",
    "            "
   ]
  },
  {
   "cell_type": "code",
   "execution_count": 375,
   "metadata": {
    "collapsed": false,
    "scrolled": false
   },
   "outputs": [
    {
     "name": "stdout",
     "output_type": "stream",
     "text": [
      "[[3244  454]\n",
      " [ 434 3368]]\n",
      "\n",
      "             precision    recall  f1-score   support\n",
      "\n",
      "          0       0.88      0.88      0.88      3698\n",
      "          1       0.88      0.89      0.88      3802\n",
      "\n",
      "avg / total       0.88      0.88      0.88      7500\n",
      "\n"
     ]
    }
   ],
   "source": [
    "msg_train, msg_test, label_train, label_test = train_test_split(traindf, traindf.sentiment, \n",
    "                                                                test_size=0.3, random_state=325)\n",
    "\n",
    "pipeline5.fit(msg_train,label_train)\n",
    "predictions5 = pipeline5.predict(msg_test)\n",
    "print confusion_matrix(label_test,predictions5)\n",
    "print \n",
    "print classification_report(label_test,predictions5)"
   ]
  },
  {
   "cell_type": "markdown",
   "metadata": {},
   "source": [
    "### // Adding sentiment as features slightly decrease the accuracy"
   ]
  },
  {
   "cell_type": "code",
   "execution_count": 317,
   "metadata": {
    "collapsed": false
   },
   "outputs": [
    {
     "name": "stdout",
     "output_type": "stream",
     "text": [
      "Cleaning and parsing movie reviews...\n",
      "\n",
      "vectorizing...  fitting pipeline...  20 Fold CV Score:  0.958320512\n",
      "Retrain on all training data, predicting test labels...\n",
      "\n"
     ]
    }
   ],
   "source": [
    "##### sweezyjeezy solution\n",
    "def review_to_wordlist( review, remove_stopwords=False ):\n",
    "    # Function to convert a document to a sequence of words,\n",
    "    # optionally removing stop words.  Returns a list of words.\n",
    "    #\n",
    "    # 1. Remove HTML\n",
    "    review_text = BeautifulSoup(review).get_text()\n",
    "    #\n",
    "    # 2. Remove non-letters\n",
    "    review_text = re.sub(\"[^a-zA-Z]\",\" \", review_text)\n",
    "    #\n",
    "    # 3. Convert words to lower case and split them\n",
    "    words = review_text.lower().split()\n",
    "    #\n",
    "    # 4. Optionally remove stop words (false by default)\n",
    "    if remove_stopwords:\n",
    "        stops = set(stopwords.words(\"english\"))\n",
    "        words = [w for w in words if not w in stops]\n",
    "    #\n",
    "    # 5. Return a list of words\n",
    "    return(words)\n",
    "\n",
    "\n",
    "\n",
    "import os\n",
    "from sklearn.feature_extraction.text import TfidfVectorizer\n",
    "from sklearn.linear_model import LogisticRegression\n",
    "from sklearn import cross_validation\n",
    "import pandas as pd\n",
    "import numpy as np\n",
    "\n",
    "train = pd.read_csv('data/labeledTrainData.tsv', header=0, \\\n",
    "                delimiter=\"\\t\", quoting=3)\n",
    "test = pd.read_csv('data/testData.tsv', header=0, delimiter=\"\\t\", \\\n",
    "               quoting=3 )\n",
    "y = train[\"sentiment\"]  \n",
    "print \"Cleaning and parsing movie reviews...\\n\"      \n",
    "traindata = []\n",
    "for i in xrange( 0, len(train[\"review\"])):\n",
    "    traindata.append(\" \".join(review_to_wordlist(train[\"review\"][i], False)))\n",
    "testdata = []\n",
    "for i in xrange(0,len(test[\"review\"])):\n",
    "    testdata.append(\" \".join(review_to_wordlist(test[\"review\"][i], False)))\n",
    "print 'vectorizing... ', \n",
    "tfv = TfidfVectorizer(min_df=3,  max_features=None, \n",
    "        strip_accents='unicode', analyzer='word',token_pattern=r'\\w{1,}',\n",
    "        ngram_range=(1, 2), use_idf=1,smooth_idf=1,sublinear_tf=1,\n",
    "        stop_words = 'english')\n",
    "X_all = traindata + testdata\n",
    "lentrain = len(traindata)\n",
    "\n",
    "print \"fitting pipeline... \",\n",
    "tfv.fit(X_all)\n",
    "X_all = tfv.transform(X_all)\n",
    "\n",
    "X = X_all[:lentrain]\n",
    "X_test = X_all[lentrain:]\n",
    "\n",
    "model = LogisticRegression(penalty='l2', dual=True, tol=0.0001, \n",
    "                         C=1, fit_intercept=True, intercept_scaling=1.0, \n",
    "                         class_weight=None, random_state=None)\n",
    "print \"20 Fold CV Score: \", np.mean(cross_validation.cross_val_score(model, X, y, cv=20, scoring='roc_auc'))\n",
    "\n",
    "print \"Retrain on all training data, predicting test labels...\\n\"\n",
    "model.fit(X,y)\n",
    "result = model.predict_proba(X_test)[:,1]\n",
    "output = pd.DataFrame( data={\"id\":test[\"id\"], \"sentiment\":result} )"
   ]
  }
 ],
 "metadata": {
  "kernelspec": {
   "display_name": "Python 2",
   "language": "python",
   "name": "python2"
  },
  "language_info": {
   "codemirror_mode": {
    "name": "ipython",
    "version": 2
   },
   "file_extension": ".py",
   "mimetype": "text/x-python",
   "name": "python",
   "nbconvert_exporter": "python",
   "pygments_lexer": "ipython2",
   "version": "2.7.13"
  }
 },
 "nbformat": 4,
 "nbformat_minor": 2
}
